{
  "nbformat": 4,
  "nbformat_minor": 0,
  "metadata": {
    "colab": {
      "name": "01_SCRE_DE_Textbook.ipynb",
      "private_outputs": true,
      "provenance": [],
      "collapsed_sections": [],
      "toc_visible": true,
      "authorship_tag": "ABX9TyMs7pffxdqRn0bELwGBnWtX",
      "include_colab_link": true
    },
    "kernelspec": {
      "name": "python3",
      "display_name": "Python 3"
    },
    "language_info": {
      "name": "python"
    }
  },
  "cells": [
    {
      "cell_type": "markdown",
      "metadata": {
        "id": "view-in-github",
        "colab_type": "text"
      },
      "source": [
        "<a href=\"https://colab.research.google.com/github/tsherburne/de-textbook/blob/main/01_SCRE_DE_Textbook.ipynb\" target=\"_parent\"><img src=\"https://colab.research.google.com/assets/colab-badge.svg\" alt=\"Open In Colab\"/></a>"
      ]
    },
    {
      "cell_type": "markdown",
      "metadata": {
        "id": "Mj7vo51w3T_J"
      },
      "source": [
        "# Digital Engineering (DE) Introduction"
      ]
    },
    {
      "cell_type": "markdown",
      "metadata": {
        "id": "eK2fnYOh37Mg"
      },
      "source": [
        "\n",
        "*   The crux of digital engineering is the creation of ***computer readable*** models to represent all aspects of the system and to support all the activities for the design, development, manufacture, and operation of the system throughout its lifecycle.\n",
        "*   These computer models would have to be based on shared data ***schemata*** so that in effect a digital thread integrates all the diverse stakeholders involved in the acquisition of new weapon systems.\n",
        "*   Model-based systems engineering (MBSE) is a subset of digital engineering. MBSE supports the systems engineering activities of requirements, architecture, design, verification, and validation. These models would have to be connected to the physics-based models used by other engineering disciplines such as mechanical and electrical engineering.\n",
        "*   Foundation to digital engineering is the representation of the system data in a format sharable between all stakeholders. SysML 2.0 is one of several future developments promising to provide a representation sufficient to support digital engineering. An ontology defining the entities and relationships between them can be used to define the concepts relevant to systems engineering. Such a representation is necessary to create the digital thread linking all the models together in a cohesive and useful manner.\n",
        "\n",
        "See [SEBoK DE Definition](https://www.sebokwiki.org/wiki/Digital_Engineering) for additional details.\n"
      ]
    },
    {
      "cell_type": "markdown",
      "metadata": {
        "id": "fXCRhq7Z5jyb"
      },
      "source": [
        "## System Definition Language (SDL)"
      ]
    },
    {
      "cell_type": "markdown",
      "metadata": {
        "id": "AYvPCsHUl_Jo"
      },
      "source": [
        "A ***System Definition Language (SDL)*** is a formal, structured language which avoids the ambiguity inherent in using common English to define or specify a system. The precise meaning of each language concept is fixed and documented to enhance team communication and assure unambiguous interpretation of specifications using this language. SDL is based on the following primitive language concepts:​\n",
        "\n",
        "*   ***Entities*** correspond to nouns in English. Entities define objects and serve as the basic units in a meta-model (e.g., Component, Function, etc.) ​\n",
        "*   ***Relationships*** are similar to verbs. Each relationship has a definite subject and object (e.g. a Component performs a Function).​\n",
        "*    Attributes further describe entities much like adjectives modify nouns. The attributes of an entity serve to define critical properties of entities. (e.g. Component entity includes number and type attributes).  \n",
        "*   ***Attributed-Relationships*** (i.e., attributes on relationships) correspond to adverbs in English. The attributes of a relationship serve to define critical properties of the relationship. For instance, attributes of a consumes relationship would include the quantity being consumed. ​\n",
        "*   ***Structures*** provide specification of semantically explicit system control constructs (Concurrency, Iteration, Loop, Multiple Exit, Replication, Selection, and Sequence). Using this explicit notation, the behavior of the system can be validated and executed using a simulator. \n",
        "\n",
        "See [A Primer for Model-Based\n",
        "Systems Engineering](http://www.mbseprimer.com/) (page 34) for additional details."
      ]
    },
    {
      "cell_type": "code",
      "metadata": {
        "id": "irqANQUvAaLm",
        "cellView": "form"
      },
      "source": [
        "#@title Top-Level MBSE Meta-Model\n",
        "from IPython.display import Image\n",
        "Image(height=300, url='https://raw.githubusercontent.com/tsherburne/de-textbook/main/images/meta-model-foundation.png')"
      ],
      "execution_count": null,
      "outputs": []
    },
    {
      "cell_type": "code",
      "metadata": {
        "id": "90cDfh2hBNbc",
        "cellView": "form"
      },
      "source": [
        "#@title Essential MBSE Meta-Model\n",
        "from IPython.display import Image\n",
        "Image(height=400, url='https://raw.githubusercontent.com/tsherburne/de-textbook/main/images/mbse-essential.png')"
      ],
      "execution_count": null,
      "outputs": []
    },
    {
      "cell_type": "markdown",
      "metadata": {
        "id": "B68iSNbEdm_8"
      },
      "source": [
        "\n",
        "----\n",
        "\n",
        "| Entity | Description |\n",
        "| :---   | :----       | \n",
        "| Component | A component is an abstract term that represents the physical or logical entity that performs a specific function <br> or functions.|\n",
        "| Function | A function is a transformation that accepts one or more inputs (items) and transforms them into outputs (items).|\n",
        "| Item | An item represent flows within and between functions. An item is an input to or an output from a function.|\n",
        "| Link   | A link is the physical implementation of an interface. |\n",
        "| Requirement | A requirement is either an originating requirement extracted from source documentation for a system, a refinement <br> of a higher‐level requirement, a derived characteristic of the system or one of its subcomponents, or a design decision.|\n",
        "| Structure | Recursive call structure, for example, select, parallel, loop, for each function. |\n",
        "| Verification Requirement | A Verification Requirement describes what is to be proved (i.e., requirements), at what level the verification will occur, <br>which method of verification should be used, and the current verification status.|\n",
        "\n",
        "----"
      ]
    },
    {
      "cell_type": "markdown",
      "metadata": {
        "id": "KWIkt5qn30EB"
      },
      "source": [
        "# Secure Cyber Resilience Engineering (SCRE)\n",
        "\n"
      ]
    },
    {
      "cell_type": "code",
      "metadata": {
        "id": "-EWsBgBNxqKe",
        "cellView": "form"
      },
      "source": [
        "#@title Resilience Concept\n",
        "#@markdown * A ***Resilience Mode*** is a distinct and separate method of operation of a component, device, or system based upon a diverse redundancy or other design pattern.\n",
        "#@markdown * A ***Sentinel*** is a pattern responsible for monitoring and reconfiguration of a system using available Resilience Modes. The Sentinel functions are expected to be far more secure than the system being addressed for resilience.\n",
        "from IPython.display import Image\n",
        "Image(height=300, url='https://raw.githubusercontent.com/tsherburne/de-textbook/main/images/resilience-concept.png')"
      ],
      "execution_count": null,
      "outputs": []
    },
    {
      "cell_type": "code",
      "metadata": {
        "cellView": "form",
        "id": "s6DTtiPY28Gp"
      },
      "source": [
        "#@title STPA-Sec Methodology Overview\n",
        "#@markdown > [STPA Guidebook](https://psas.scripts.mit.edu/home/get_file.php?name=STPA_handbook.pdf) (page 14)\n",
        "\n",
        "#@markdown 1. Defining the purpose of the analysis is the first step with any analysis method. What kinds of ***losses***\n",
        "#@markdown will the analysis aim to prevent? Will STPA be applied only to traditional safety goals like preventing loss\n",
        "#@markdown of human life or will it be applied more broadly to security, privacy, performance, and other system\n",
        "#@markdown properties? What is the system to be analyzed and what is the ***system boundary***? \n",
        "#@markdown 2. The second step is to build a model of the system called a ***control structure***. A control structure\n",
        "#@markdown captures functional relationships and interactions by modeling the system as a set of feedback control\n",
        "#@markdown loops. The control structure usually begins at a very abstract level and is iteratively refined to capture\n",
        "#@markdown more detail about the system. This step does not change regardless of whether STPA is being applied to\n",
        "#@markdown safety, security, privacy, or other properties.\n",
        "#@markdown 3. The third step is to analyze control actions in the control structure to examine how they could lead to\n",
        "#@markdown the losses defined in the first step. This step does not change regardless of whether STPA\n",
        "#@markdown is being applied to safety, security, privacy, or other properties.\n",
        "#@markdown 4. The fourth step identifies the reasons why hazardous control might occur in the system. Scenarios are\n",
        "#@markdown created to explain:\n",
        "#@markdown   * How incorrect feedback, inadequate requirements, design errors, component failures, and\n",
        "#@markdown other factors (cyber attacks) could cause hazardous control actions and ultimately lead to losses.\n",
        "#@markdown   * How safe control actions might be provided but not followed or executed properly, leading to a\n",
        "#@markdown loss.\n",
        "from IPython.display import Image\n",
        "Image(height=400, url='https://raw.githubusercontent.com/tsherburne/de-textbook/main/images/stpa-method-overview.png')\n"
      ],
      "execution_count": null,
      "outputs": []
    },
    {
      "cell_type": "code",
      "metadata": {
        "id": "9gE0qs_Zy7L2",
        "cellView": "form"
      },
      "source": [
        "#@title Mission Aware (MA) MBSE Incredients\n",
        "#@markdown * [Essential MBSE](https://colab.research.google.com/drive/1pbX9Yx5C6Kq7bqeIP7fUkzbMqVJwyDRb?authuser=1#scrollTo=90cDfh2hBNbc)\n",
        "#@markdown * [STPA-Sec](https://colab.research.google.com/drive/1pbX9Yx5C6Kq7bqeIP7fUkzbMqVJwyDRb?authuser=1#scrollTo=s6DTtiPY28Gp)\n",
        "#@markdown * [Resilience Concept](https://colab.research.google.com/drive/1pbX9Yx5C6Kq7bqeIP7fUkzbMqVJwyDRb?authuser=1#scrollTo=KWIkt5qn30EB)\n",
        "#@markdown * NIST\n",
        "#@markdown   * [SP 800-160 Vol. 2](https://csrc.nist.gov/publications/detail/sp/800-160/vol-2/final) Developing Cyber Resilient Systems: A Systems Security Engineering Approach\n",
        "#@markdown   * [SP 800-53 Rev. 5](https://nvlpubs.nist.gov/nistpubs/SpecialPublications/NIST.SP.800-53r5.pdf) Security and Privacy Controls for Information Systems and Organizations\n",
        "#@markdown   * [RMF](https://csrc.nist.gov/projects/risk-management) Risk Management Framework\n",
        "#@markdown * MITRE\n",
        "#@markdown   * [CAPEC](https://capec.mitre.org/)\n",
        "#@markdown   * [ATT&CK](https://attack.mitre.org/)\n",
        "#@markdown   * [D3FEND](https://d3fend.mitre.org/)\n",
        "from IPython.display import Image\n",
        "Image(height=200, url='https://raw.githubusercontent.com/tsherburne/de-textbook/main/images/mission-aware-mbse-incredients.png')\n"
      ],
      "execution_count": null,
      "outputs": []
    },
    {
      "cell_type": "code",
      "metadata": {
        "cellView": "form",
        "id": "fGuSCTz1EzT-"
      },
      "source": [
        "#@title Top-Level MA MBSE Meta-Model\n",
        "from IPython.display import Image\n",
        "Image(height=400, url='https://raw.githubusercontent.com/tsherburne/de-textbook/main/images/ma-meta-model-foundation.png')\n"
      ],
      "execution_count": null,
      "outputs": []
    },
    {
      "cell_type": "code",
      "metadata": {
        "cellView": "form",
        "id": "5Yg_TWyGIqx5"
      },
      "source": [
        "#@title Detail MA MBSE Meta-Model\n",
        "from IPython.display import Image\n",
        "Image(height=600, url='https://raw.githubusercontent.com/tsherburne/de-textbook/main/images/ma-meta-model-detail.png')\n"
      ],
      "execution_count": null,
      "outputs": []
    },
    {
      "cell_type": "markdown",
      "metadata": {
        "id": "LxRtXtC7JDwj"
      },
      "source": [
        "----\n",
        "\n",
        "| Element | Entity | Description |\n",
        "| :---    | :---   | :----       | \n",
        "| Control Structure | Control Action | A controller provides control actions to control some process and to enforce constraints on the <br> behavior of the  controlled process.|\n",
        "| | Feedback | Process models may be updated in part by feedback used to observe the controlled process.|\n",
        "| | Context | The set of process model variables and values.|\n",
        "| Risk | Loss | A loss involves something of value to stakeholders. Losses may include a loss of human life or <br> human injury, property damage, environmental pollution, loss of mission, loss of reputation, loss <br> or leak of sensitive information, or any other loss that is unacceptable to the stakeholders.|\n",
        "| | Hazard | A hazard is a system state or set of conditions that, together with a particular set of worst-case <br> environmental conditions, will lead to a loss.|\n",
        "| | Hazardous Action | A hazardous action is a control action that, in a particular context and worst-case environment, <br>will lead to a hazard.|\n",
        "| Vulnerability | Loss Scenario | A loss scenario describes the causal factors that can lead to the hazardous control and to hazards. <br> Two types of loss scenarios must be considered: a) Why would hazardous control actions occur? <br>b) Why would control actions be improperly executed or not executed, leading to hazards?|\n",
        "| | Remediation | The hygiene practice or resilience mechanism to protect against a loss}, hazard}, loss scenario, <br>or attack vector. |\n",
        "| Mission Aware | Attack Pattern | |\n",
        "| | Attack Vector | |\n",
        "| | Hygiene Practice | |\n",
        "| | Resilient Mode | |\n",
        "| | Sentinel \n",
        "\n",
        "----"
      ]
    },
    {
      "cell_type": "code",
      "metadata": {
        "cellView": "form",
        "id": "Y57_Y2K_QMe2"
      },
      "source": [
        "#@title Cyber Security Requirements Methodology (CSRM)\n",
        "from IPython.display import Image\n",
        "Image(height=600, url='')\n"
      ],
      "execution_count": null,
      "outputs": []
    },
    {
      "cell_type": "code",
      "metadata": {
        "cellView": "form",
        "id": "nsxJY_uaQWC0"
      },
      "source": [
        "#@title Framework for Operational Resilience in Engineering and System Test (FOREST)\n",
        "from IPython.display import Image\n",
        "Image(height=600, url='')"
      ],
      "execution_count": null,
      "outputs": []
    },
    {
      "cell_type": "markdown",
      "metadata": {
        "id": "uQRsFzEA65oR"
      },
      "source": [
        "# DE Textbook Chapters\n",
        "\n",
        "\n",
        "\n",
        "\n"
      ]
    },
    {
      "cell_type": "markdown",
      "metadata": {
        "id": "CGZ4LU7t8DZt"
      },
      "source": [
        "*   Mission Engineering\n",
        "  *   (SCRE) [Operational Risk Assessment](https://colab.research.google.com/drive/1hNEJ7dAmUFhure_p2qRfLbaVF_cFgqBv?authuser=1)\n",
        "*   Requirements Analysis\n",
        "*   Behavior Analysis\n",
        "  *   (SCRE) [Vulnerability Assesment](https://)\n",
        "*   System Architecture\n",
        "  *   (SCRE) [Resilience Architecture](https://)\n",
        "*   Verification and Validation\n",
        "  *   (SCRE) [Resilience Design Validation](https://)\n",
        "  *   (SCRE) [Test Support System](https://)"
      ]
    }
  ]
}