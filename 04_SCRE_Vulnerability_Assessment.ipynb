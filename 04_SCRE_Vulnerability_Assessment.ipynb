{
  "cells": [
    {
      "cell_type": "markdown",
      "metadata": {
        "colab_type": "text",
        "id": "view-in-github"
      },
      "source": [
        "<a href=\"https://colab.research.google.com/github/tsherburne/de-textbook/blob/main/04_SCRE_Vulnerability_Assessment.ipynb\" target=\"_parent\"><img src=\"https://colab.research.google.com/assets/colab-badge.svg\" alt=\"Open In Colab\"/></a>"
      ]
    },
    {
      "cell_type": "markdown",
      "id": "39ace775-8ccb-4341-841a-0570903e9470",
      "metadata": {
        "id": "39ace775-8ccb-4341-841a-0570903e9470",
        "jp-MarkdownHeadingCollapsed": true,
        "tags": []
      },
      "source": [
        "# Initialize Notebook"
      ]
    },
    {
      "cell_type": "code",
      "execution_count": null,
      "id": "f31ee2f6-fd93-4668-834f-a552b7455aea",
      "metadata": {
        "cellView": "form",
        "id": "f31ee2f6-fd93-4668-834f-a552b7455aea"
      },
      "outputs": [],
      "source": [
        "#@title Download & Install Notebook Packages\n",
        "%pip install -q manb\n",
        "import manb\n",
        "env = manb.Environment('https://genesys.mission-aware.net', '/api/v1/')"
      ]
    },
    {
      "cell_type": "code",
      "execution_count": null,
      "id": "86f30719-1653-4d56-9f50-212725c26222",
      "metadata": {
        "cellView": "form",
        "id": "86f30719-1653-4d56-9f50-212725c26222"
      },
      "outputs": [],
      "source": [
        "#@title Cloudflare Tunnel Authentication\n",
        "env.Tunnel()"
      ]
    },
    {
      "cell_type": "code",
      "execution_count": null,
      "id": "e1393c5a-19d7-4bd8-a846-6133916d1c5b",
      "metadata": {
        "cellView": "form",
        "id": "e1393c5a-19d7-4bd8-a846-6133916d1c5b"
      },
      "outputs": [],
      "source": [
        "#@title GENESYS Login & Project Selection\n",
        "env.Login()"
      ]
    },
    {
      "cell_type": "markdown",
      "id": "b8a7f0c1-ebd3-4369-9083-9b8b54511592",
      "metadata": {
        "id": "b8a7f0c1-ebd3-4369-9083-9b8b54511592",
        "tags": []
      },
      "source": [
        "# Vulnerability Assessment"
      ]
    },
    {
      "cell_type": "markdown",
      "id": "75178bfe-59fe-4948-b5ea-48dacc7b0a18",
      "metadata": {
        "id": "75178bfe-59fe-4948-b5ea-48dacc7b0a18",
        "tags": []
      },
      "source": [
        "## Loss Scenario Identification\n",
        "\n",
        "[Systems Theoretic Process Analysis (STPA) Guidebook](https://psas.scripts.mit.edu/home/get_file.php?name=STPA_handbook.pdf) (pages 42-49)\n",
        "\n",
        "---\n",
        "\n",
        "> <img src=\"https://raw.githubusercontent.com/tsherburne/de-textbook/main/images/stpa-loss-scenario-identification.png\" height=\"500\"/>\n",
        "\n",
        "----"
      ]
    },
    {
      "cell_type": "markdown",
      "id": "91e497a0-567c-4e28-b364-973ad3a0cd83",
      "metadata": {
        "id": "91e497a0-567c-4e28-b364-973ad3a0cd83",
        "tags": []
      },
      "source": [
        "### Loss Scenario Sub-Types\n",
        "\n",
        "----\n",
        "\n",
        "| **Loss Scenario: Sub-Type** | **Scenario Considerations** | *Cyber Security Considerations*\n",
        "| :---   | :---- | :---- |\n",
        "| a.1: Controller Behavior | Failures involving the controller (for physical controllers) <br> Inadequate control algorithm <br> Unsafe control input (from another controller) <br>Inadequate process model (does not match reality)| *Control Algorithm / Process Model - flaw introduced by an adversary*|\n",
        "| a.2: Inadequate Feedback / Path | Feedback not received<br>Inadequate feedback is received| *Feedback affected by an adversary - injected, spoofed, tampered, intercepted, or disclosed*|\n",
        "| b.3: Control Path | Control action not received<br>Control action improperly received|*Control Action affected by an adversary - injected, spoofed, tampered, intercepted, or disclosed* |\n",
        "| b.4: Controlled Process | Control action not executed<br>Control action improperly executed| *Controlled Process - flaw introduced by an adversary*|\n",
        "\n",
        "----"
      ]
    },
    {
      "cell_type": "markdown",
      "id": "802229fc-fcac-4775-843b-0822ed91e8df",
      "metadata": {
        "id": "802229fc-fcac-4775-843b-0822ed91e8df",
        "tags": []
      },
      "source": [
        "## MBSE ***Vulnerability Assessment*** Entities & Relationships\n",
        "\n",
        "> <img src=\"https://raw.githubusercontent.com/tsherburne/de-textbook/main/images/mission-aware-mbse-vulnerability-assessment.png\" height=\"300\" />\n",
        "\n"
      ]
    },
    {
      "cell_type": "markdown",
      "id": "02e93a90-5301-44a0-a1c3-a8eb5e557944",
      "metadata": {
        "id": "02e93a90-5301-44a0-a1c3-a8eb5e557944"
      },
      "source": [
        "----\n",
        "\n",
        "| Entity | Description |\n",
        "| :---   | :----       | \n",
        "| Control Action | A controller provides control actions to control some process and to enforce constraints on the behavior of the <br> controlled process.|\n",
        "| Component | A component is an abstract term that represents the physical or logical entity that performs a specific function <br> or functions.|\n",
        "| Feedback | Process models may be updated in part by feedback used to observe the controlled process.|\n",
        "| Function | A function is a transformation that accepts one or more inputs (items) and transforms them into outputs (items).|\n",
        "| Hazardous Action |A Hazardous Control Action (HCA) is a control action that, in a particular context and worst-case <br> environment, will lead to a hazard.|\n",
        "| Item | An item represent flows within and between functions. An item is an input to or an output from a function.|\n",
        "| Link |A link is the physical implementation of an interface.|\n",
        "| Loss Scenario |A loss scenario describes the causal factors that can lead to the unsafe control and to hazards.|\n",
        "\n",
        "\n",
        "----"
      ]
    },
    {
      "cell_type": "markdown",
      "id": "929f1033-4572-4f80-98a8-5cd06813c705",
      "metadata": {
        "id": "929f1033-4572-4f80-98a8-5cd06813c705"
      },
      "source": [
        "### Loss Scenario Sub-Type: Meta-Model Mappings\n",
        "\n",
        "----\n",
        "\n",
        "| **Loss Scenario: Sub-Type** | **MBSE Meta-Model Mapping** | *Cyber Security Indications*|\n",
        "| :---   | :---- |:---- |\n",
        "| a.1: Controller Behavior | **Function**: Controller | Item (Trigger – injected / spoofed)<br>Item (Output – incorrect value)<br>Exit (Error logic) <br>Resource (too much / too little)<br>Attributes: Duration / Timeout (too long / too short)|\n",
        "| a.2: Inadequate Feedback / Path | **Link**: Feedback| Item – *Feedback*<br>&emsp;value tampered<br>&emsp;size tampered<br>&emsp;order modified<br>Attribute: Capacity (too much / too little)<br>Attribute: Delay (too long / too short)|\n",
        "| b.3: Control Path | **Link**: Control Action| Item – *Control Action*<br>&emsp;value tampered<br>&emsp;size tampered<br>&emsp;order modified<br>Attribute: Capacity (too much / too little)<br>Attribute: Delay (too long / too short)|\n",
        "| b.4: Controlled Process | **Function**: Controlled Process|Item (Trigger – injected / spoofed)<br>Item (Output – incorrect value)<br>Exit (Error logic) <br>Resource (too much / too little)<br>Attributes: Duration / Timeout (too long / too short) |\n",
        "\n",
        "----"
      ]
    },
    {
      "cell_type": "code",
      "execution_count": null,
      "id": "7cfef8b8-028c-4717-b328-b2c072b4e061",
      "metadata": {
        "cellView": "form",
        "id": "7cfef8b8-028c-4717-b328-b2c072b4e061"
      },
      "outputs": [],
      "source": [
        "#@title Initialize Vulnerability Assessment\n",
        "va = manb.VulnerabilityAssessment(env)"
      ]
    },
    {
      "cell_type": "code",
      "execution_count": null,
      "id": "0b3a67bd-cb16-4e6a-9f24-550195acffde",
      "metadata": {
        "cellView": "form",
        "id": "0b3a67bd-cb16-4e6a-9f24-550195acffde"
      },
      "outputs": [],
      "source": [
        "#@title System ***Loss Scenarios***\n",
        "#@markdown Definition: ***A Loss Scenario*** describes the causal factors that can lead to the \n",
        "#@markdown hazardous control actions and to hazards\n",
        "va.LossScenarioTable()"
      ]
    },
    {
      "cell_type": "code",
      "execution_count": null,
      "id": "2f2a41af",
      "metadata": {},
      "outputs": [],
      "source": [
        "#@title Physical Block Diagrams\n",
        "va.PhysicalBlockDiagrams()"
      ]
    },
    {
      "cell_type": "code",
      "execution_count": null,
      "id": "966b6f99",
      "metadata": {},
      "outputs": [],
      "source": [
        "#@title Components - Loss Scenario (LS) Analysis\n",
        "va.ComponentAnalysisTable()"
      ]
    },
    {
      "cell_type": "code",
      "execution_count": null,
      "id": "1220e486",
      "metadata": {},
      "outputs": [],
      "source": [
        "#@title Links - Loss Scenario Analysis\n",
        "va.LinkAnalysisTable()"
      ]
    },
    {
      "cell_type": "markdown",
      "id": "bae239ef-a491-43c9-bf78-0f379dfa9c77",
      "metadata": {
        "id": "bae239ef-a491-43c9-bf78-0f379dfa9c77"
      },
      "source": [
        "# Exercises"
      ]
    },
    {
      "cell_type": "code",
      "execution_count": null,
      "id": "17e0df05-ddc5-40fa-af7c-741d350b13a6",
      "metadata": {
        "cellView": "form",
        "id": "17e0df05-ddc5-40fa-af7c-741d350b13a6"
      },
      "outputs": [],
      "source": [
        "#@title Vulnerability Assessment Questions\n",
        "ex = manb.Exercises(env, manb.Section.VULNERABILITY_ASSESSMENT)\n",
        "ex.Edit()"
      ]
    }
  ],
  "metadata": {
    "colab": {
      "collapsed_sections": [],
      "include_colab_link": true,
      "name": "04_SCRE_Vulnerability_Assessment.ipynb",
      "provenance": [],
      "toc_visible": true
    },
    "kernelspec": {
      "display_name": "Python 3 (ipykernel)",
      "language": "python",
      "name": "python3"
    },
    "language_info": {
      "codemirror_mode": {
        "name": "ipython",
        "version": 3
      },
      "file_extension": ".py",
      "mimetype": "text/x-python",
      "name": "python",
      "nbconvert_exporter": "python",
      "pygments_lexer": "ipython3",
      "version": "3.8.10"
    },
    "toc-autonumbering": true,
    "toc-showmarkdowntxt": false
  },
  "nbformat": 4,
  "nbformat_minor": 5
}
