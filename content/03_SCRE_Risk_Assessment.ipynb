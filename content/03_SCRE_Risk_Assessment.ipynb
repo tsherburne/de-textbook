{
  "cells": [
    {
      "cell_type": "markdown",
      "metadata": {
        "colab_type": "text",
        "id": "view-in-github"
      },
      "source": [
        "<a href=\"https://colab.research.google.com/github/tsherburne/de-textbook/blob/main/content/03_SCRE_Risk_Assessment.ipynb\" target=\"_parent\"><img src=\"https://colab.research.google.com/assets/colab-badge.svg\" alt=\"Open In Colab\"/></a>"
      ]
    },
    {
      "cell_type": "markdown",
      "metadata": {
        "id": "ARKld3rWqosO",
        "tags": []
      },
      "source": [
        "# Initialize Notebook"
      ]
    },
    {
      "cell_type": "markdown",
      "metadata": {},
      "source": [
        "## Download & Install Notebook Packages"
      ]
    },
    {
      "cell_type": "markdown",
      "metadata": {},
      "source": [
        "### Google Colab"
      ]
    },
    {
      "cell_type": "code",
      "execution_count": null,
      "metadata": {},
      "outputs": [],
      "source": [
        "%pip install -q manb\n",
        "import manb\n",
        "env = manb.Environment('https://genesys.mission-aware.net', '/api/v1/')"
      ]
    },
    {
      "cell_type": "markdown",
      "metadata": {},
      "source": [
        "### JupyterLite"
      ]
    },
    {
      "cell_type": "code",
      "execution_count": null,
      "metadata": {
        "cellView": "form",
        "id": "yanj4hCUW50S",
        "s": []
      },
      "outputs": [],
      "source": [
        "import piplite\n",
        "await piplite.install('manb')\n",
        "import manb\n",
        "env = manb.Environment('https://genesys.mission-aware.net', '/api/v1/')"
      ]
    },
    {
      "cell_type": "markdown",
      "metadata": {},
      "source": [
        "## Cloudflare Tunnel Authentication"
      ]
    },
    {
      "cell_type": "code",
      "execution_count": null,
      "metadata": {
        "cellView": "form",
        "id": "_u6jvG7hlf-7"
      },
      "outputs": [],
      "source": [
        "env.Tunnel()"
      ]
    },
    {
      "cell_type": "markdown",
      "metadata": {},
      "source": [
        "## GENESYS Login & Project Selection"
      ]
    },
    {
      "cell_type": "code",
      "execution_count": null,
      "metadata": {
        "cellView": "form",
        "id": "KwhEzBBymEH2",
        "tags": []
      },
      "outputs": [],
      "source": [
        "env.Login()"
      ]
    },
    {
      "cell_type": "markdown",
      "metadata": {
        "id": "FZpIiP1ArEn5",
        "tags": []
      },
      "source": [
        "# Operational Risk Assessment\n"
      ]
    },
    {
      "cell_type": "markdown",
      "metadata": {
        "id": "MIcVtyIXAKQv"
      },
      "source": [
        "## STPA Losses, Hazards, & Hazardous Control Actions\n",
        "\n",
        "--- \n",
        "## MBSE ***Operational Risk Assessment*** Entities & Relationships\n",
        "\n",
        "> <img src=\"https://raw.githubusercontent.com/tsherburne/de-textbook/main/images/mission-aware-ma-mbse-risk-assesment.png\" width=\"500\" />"
      ]
    },
    {
      "cell_type": "markdown",
      "metadata": {},
      "source": [
        "## Initialize Risk Assessment"
      ]
    },
    {
      "cell_type": "code",
      "execution_count": null,
      "metadata": {
        "cellView": "form",
        "id": "65_e7PT177VL"
      },
      "outputs": [],
      "source": [
        "ra = manb.RiskAssessment(env)"
      ]
    },
    {
      "cell_type": "markdown",
      "metadata": {},
      "source": [
        "## System ***Losses***\n",
        "Definition: A ***Loss*** involves something of value to stakeholders. \n",
        "Losses may include a loss of human life or human injury, property damage, \n",
        "environmental pollution, loss of mission, loss of reputation, loss or leak of \n",
        "sensitive information, or any other loss that is unacceptable to the stakeholders.\n"
      ]
    },
    {
      "cell_type": "code",
      "execution_count": null,
      "metadata": {
        "cellView": "form",
        "id": "CDPNSlmdc3Dl"
      },
      "outputs": [],
      "source": [
        "ra.LossTable()"
      ]
    },
    {
      "cell_type": "markdown",
      "metadata": {},
      "source": [
        "## System Hazards\n",
        "Definition: A ***Hazard*** is a system state or set of conditions \n",
        "that, together with a particular set of worst-case environmental \n",
        "conditions, will lead to a loss."
      ]
    },
    {
      "cell_type": "code",
      "execution_count": null,
      "metadata": {
        "cellView": "form",
        "id": "of2stNiUzAN6"
      },
      "outputs": [],
      "source": [
        "ra.HazardTable()"
      ]
    },
    {
      "cell_type": "markdown",
      "metadata": {},
      "source": [
        "## System Hazardous Control Actions\n",
        "Definition: A ***Hazardous Control Action (HCA)*** is a control action that, \n",
        "in a particular context and worst-case environment, will lead to a hazard.\n",
        "\n",
        "There are four ways ***(variation type)*** a control action can be hazardous:\n",
        "1. Not providing the control action leads to a hazard.\n",
        "2. Providing the control action leads to a hazard.\n",
        "3. Providing a potentially safe control action but too early, too late, or in the wrong order\n",
        "4. The control action lasts too long or is stopped too soon (for continuous control actions, not discrete ones)."
      ]
    },
    {
      "cell_type": "code",
      "execution_count": null,
      "metadata": {
        "cellView": "form",
        "id": "OkfZDaUr8zO2"
      },
      "outputs": [],
      "source": [
        "ra.HazardousActionTable()"
      ]
    },
    {
      "cell_type": "markdown",
      "metadata": {},
      "source": [
        "## Control Action Analysis\n",
        "\n",
        "Although all four variation types should be considered, they may not all \n",
        "be applicable in every case (see HCA.0 and 'justification'). It is also possible \n",
        "to identify several HCAs for a single variation type.\n",
        "In general, each CA / variation type may define 0 or more HCAs."
      ]
    },
    {
      "cell_type": "code",
      "execution_count": null,
      "metadata": {
        "cellView": "form",
        "id": "oiWTmcVwJk7Q"
      },
      "outputs": [],
      "source": [
        "ra.ControlActionAnalysisTable()"
      ]
    }
  ],
  "metadata": {
    "colab": {
      "collapsed_sections": [],
      "include_colab_link": true,
      "name": "03_SCRE_Risk_Assessment.ipynb",
      "private_outputs": true,
      "provenance": [],
      "toc_visible": true
    },
    "kernelspec": {
      "display_name": "Python 3 (ipykernel)",
      "language": "python",
      "name": "python3"
    },
    "language_info": {
      "codemirror_mode": {
        "name": "ipython",
        "version": 3
      },
      "file_extension": ".py",
      "mimetype": "text/x-python",
      "name": "python",
      "nbconvert_exporter": "python",
      "pygments_lexer": "ipython3",
      "version": "3.8.10"
    },
    "toc-showtags": false
  },
  "nbformat": 4,
  "nbformat_minor": 0
}
