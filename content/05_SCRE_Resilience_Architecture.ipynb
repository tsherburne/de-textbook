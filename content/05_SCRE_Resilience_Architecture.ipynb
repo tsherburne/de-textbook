{
  "cells": [
    {
      "cell_type": "markdown",
      "metadata": {
        "colab_type": "text",
        "id": "view-in-github"
      },
      "source": [
        "<a href=\"https://colab.research.google.com/github/tsherburne/de-textbook/blob/main/content/05_SCRE_Resilience_Architecture.ipynb\" target=\"_parent\"><img src=\"https://colab.research.google.com/assets/colab-badge.svg\" alt=\"Open In Colab\"/></a>"
      ]
    },
    {
      "cell_type": "markdown",
      "metadata": {
        "id": "yxyGsrYcsoHw"
      },
      "source": [
        "# Initialize Notebook"
      ]
    },
    {
      "cell_type": "markdown",
      "metadata": {
        "id": "Xoxr066CBTqF"
      },
      "source": [
        "## Download & Install Notebook Packages"
      ]
    },
    {
      "cell_type": "code",
      "execution_count": null,
      "metadata": {
        "cellView": "form",
        "id": "6l3GIZt8soHw"
      },
      "outputs": [],
      "source": [
        "import sys\n",
        "if sys.platform == 'emscripten':\n",
        "    import piplite\n",
        "    await piplite.install('manb')\n",
        "else:\n",
        "    %pip install -q manb\n",
        "import manb\n",
        "env = manb.Environment('https://genesys.mission-aware.net', '/api/v1/')"
      ]
    },
    {
      "cell_type": "markdown",
      "metadata": {
        "id": "jOSRjc7OBTqH"
      },
      "source": [
        "## Cloudflare Tunnel Authentication"
      ]
    },
    {
      "cell_type": "code",
      "execution_count": null,
      "metadata": {
        "cellView": "form",
        "id": "L4g52IOhsoHx"
      },
      "outputs": [],
      "source": [
        "env.Tunnel()"
      ]
    },
    {
      "cell_type": "markdown",
      "metadata": {
        "id": "D54AQ-UVBTqI"
      },
      "source": [
        "## GENESYS Login & Project Selection"
      ]
    },
    {
      "cell_type": "code",
      "execution_count": null,
      "metadata": {
        "cellView": "form",
        "id": "VuDq3hXUsoHy"
      },
      "outputs": [],
      "source": [
        "env.Login()"
      ]
    },
    {
      "cell_type": "markdown",
      "metadata": {
        "id": "cH7a0HR-soHy"
      },
      "source": [
        "# Resilience Architecture Analysis"
      ]
    },
    {
      "cell_type": "markdown",
      "metadata": {
        "id": "v9Cl3uUWBTqN"
      },
      "source": [
        "## Initialize Resilience Architecture Analysis"
      ]
    },
    {
      "cell_type": "code",
      "execution_count": null,
      "metadata": {
        "cellView": "form",
        "id": "cEcfjA_Wv6ox"
      },
      "outputs": [],
      "source": [
        "arch = manb.ResilienceArchitecture(env)"
      ]
    },
    {
      "cell_type": "markdown",
      "metadata": {
        "id": "EcSrZejduI2Y"
      },
      "source": [
        "## Loss Scenario Elaboration"
      ]
    },
    {
      "cell_type": "markdown",
      "metadata": {
        "id": "mlMI4cJtvDal"
      },
      "source": [
        "### MBSE for Loss Scenario Elaboration\n",
        "\n",
        "> <img src=\"https://raw.githubusercontent.com/tsherburne/de-textbook/main/images/mission-aware-loss-scenario-elaboration.png\" width=\"600\" />\n"
      ]
    },
    {
      "cell_type": "markdown",
      "metadata": {
        "id": "sA111FhCBTqP"
      },
      "source": [
        "### Resilient Modes Table\n",
        "Definition: \"Effectiveness\" (High / Medium / Low) of Resilient Mode's \n",
        "ability to remediate high \"likelihood\" attacks (Loss Scenarios) that are\n",
        "associated with high \"mission impact/consequence\" Losses."
      ]
    },
    {
      "cell_type": "code",
      "execution_count": null,
      "metadata": {
        "cellView": "form",
        "id": "dqE0066I39zZ"
      },
      "outputs": [],
      "source": [
        "arch.ResilientModeTable()"
      ]
    },
    {
      "cell_type": "markdown",
      "metadata": {
        "id": "mbjtz4-4BTqP"
      },
      "source": [
        "### Loss Scenario Elaboration Table"
      ]
    },
    {
      "cell_type": "code",
      "execution_count": null,
      "metadata": {
        "cellView": "form",
        "id": "892MzP-7n4i2"
      },
      "outputs": [],
      "source": [
        "arch.LossScenarioElaborationTable()"
      ]
    },
    {
      "cell_type": "markdown",
      "metadata": {},
      "source": [
        "### Resilience Architecture Block Diagrams"
      ]
    },
    {
      "cell_type": "code",
      "execution_count": null,
      "metadata": {},
      "outputs": [],
      "source": [
        "arch.ResilienceArchitecture()"
      ]
    },
    {
      "cell_type": "markdown",
      "metadata": {
        "id": "n0KOonqABTqQ"
      },
      "source": [
        "### Loss Scenario Message Sequence Diagrams"
      ]
    },
    {
      "cell_type": "code",
      "execution_count": null,
      "metadata": {
        "cellView": "form",
        "id": "ovX6pR_jn4i3"
      },
      "outputs": [],
      "source": [
        "arch.LossScenarioMSCDiagrams()"
      ]
    },
    {
      "cell_type": "markdown",
      "metadata": {
        "id": "YRw84C4puPyw"
      },
      "source": [
        "## Requirements Elicitation"
      ]
    },
    {
      "cell_type": "markdown",
      "metadata": {
        "id": "3-cqnS1JvLXY"
      },
      "source": [
        "### MBSE for Requirements Elicitation\n",
        "\n",
        "> <img src=\"https://raw.githubusercontent.com/tsherburne/de-textbook/main/images/mission-aware-requirements-elicitation.png\" width=\"500\" />\n"
      ]
    },
    {
      "cell_type": "markdown",
      "metadata": {},
      "source": [
        "### Quality Attributes and Next-Level CSA Requirements within FOREST\n",
        "\n",
        "Each FOREST step is associated with the appropriate SE artifact, quality attributes and refined as a set of next-level CSA requirement templates.\n",
        "\n",
        "> <img src=\"https://raw.githubusercontent.com/tsherburne/de-textbook/main/images/ma-meta-model-foundation-forest.png\" width=\"700\" />"
      ]
    },
    {
      "cell_type": "markdown",
      "metadata": {},
      "source": [
        "### FOREST-based Elicited Requirement Templates"
      ]
    },
    {
      "cell_type": "code",
      "execution_count": null,
      "metadata": {},
      "outputs": [],
      "source": [
        "arch.RequirementTemplates()"
      ]
    },
    {
      "cell_type": "markdown",
      "metadata": {
        "id": "A8fsh2VsBTqR"
      },
      "source": [
        "### Loss Scenario / Remediation Elicited Requirements Table"
      ]
    },
    {
      "cell_type": "code",
      "execution_count": null,
      "metadata": {
        "cellView": "form",
        "id": "6AGnw-fGsoHy"
      },
      "outputs": [],
      "source": [
        "arch.ElicitedRequirementsTable()"
      ]
    }
  ],
  "metadata": {
    "colab": {
      "collapsed_sections": [],
      "include_colab_link": true,
      "name": "05_SCRE_Resilience_Architecture.ipynb",
      "private_outputs": true,
      "provenance": [],
      "toc_visible": true
    },
    "interpreter": {
      "hash": "916dbcbb3f70747c44a77c7bcd40155683ae19c65e1c03b4aa3499c5328201f1"
    },
    "kernelspec": {
      "display_name": "Python 3.8.10 64-bit",
      "language": "python",
      "name": "python3"
    },
    "language_info": {
      "codemirror_mode": {
        "name": "ipython",
        "version": 3
      },
      "file_extension": ".py",
      "mimetype": "text/x-python",
      "name": "python",
      "nbconvert_exporter": "python",
      "pygments_lexer": "ipython3",
      "version": "3.8.10"
    },
    "orig_nbformat": 4
  },
  "nbformat": 4,
  "nbformat_minor": 0
}
