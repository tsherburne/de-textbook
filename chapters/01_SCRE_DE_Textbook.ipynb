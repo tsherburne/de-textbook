{
  "nbformat": 4,
  "nbformat_minor": 0,
  "metadata": {
    "colab": {
      "name": "01.SCRE-DE-Textbook.ipynb",
      "provenance": [],
      "toc_visible": true,
      "authorship_tag": "ABX9TyNOtfzXO0AArPOa3lOolT6W",
      "include_colab_link": true
    },
    "kernelspec": {
      "name": "python3",
      "display_name": "Python 3"
    },
    "language_info": {
      "name": "python"
    }
  },
  "cells": [
    {
      "cell_type": "markdown",
      "metadata": {
        "id": "view-in-github",
        "colab_type": "text"
      },
      "source": [
        "<a href=\"https://colab.research.google.com/github/tsherburne/de-textbook/blob/main/chapters/01_SCRE_DE_Textbook.ipynb\" target=\"_parent\"><img src=\"https://colab.research.google.com/assets/colab-badge.svg\" alt=\"Open In Colab\"/></a>"
      ]
    },
    {
      "cell_type": "markdown",
      "metadata": {
        "id": "Mj7vo51w3T_J"
      },
      "source": [
        "# Digital Engineering (DE) Introduction"
      ]
    },
    {
      "cell_type": "markdown",
      "metadata": {
        "id": "eK2fnYOh37Mg"
      },
      "source": [
        "\n",
        "## [SEBoK DE Definition](https://www.sebokwiki.org/wiki/Digital_Engineering)\n",
        "\n",
        "\n",
        "*   The crux of digital engineering is the creation of ***computer readable*** models to represent all aspects of the system and to support all the activities for the design, development, manufacture, and operation of the system throughout its lifecycle.\n",
        "*   These computer models would have to be based on shared data ***schemata*** so that in effect a digital thread integrates all the diverse stakeholders involved in the acquisition of new weapon systems.\n",
        "*   Model-based systems engineering (MBSE) is a subset of digital engineering. MBSE supports the systems engineering activities of requirements, architecture, design, verification, and validation. These models would have to be connected to the physics-based models used by other engineering disciplines such as mechanical and electrical engineering.\n",
        "*   Foundation to digital engineering is the representation of the system data in a format sharable between all stakeholders. SysML 2.0 is one of several future developments promising to provide a representation sufficient to support digital engineering. An ontology defining the entities and relationships between them can be used to define the concepts relevant to systems engineering. Such a representation is necessary to create the digital thread linking all the models together in a cohesive and useful manner."
      ]
    },
    {
      "cell_type": "markdown",
      "metadata": {
        "id": "fXCRhq7Z5jyb"
      },
      "source": [
        "## System Definition Language (SDL)\n",
        "A ***System Definition Language (SDL)*** is a formal, structured language which avoids the ambiguity inherent in using common English to define or specify a system. The precise meaning of each language concept is fixed and documented to enhance team communication and assure unambiguous interpretation of specifications using this language. SDL is based on the following primitive language concepts:​\n",
        "\n",
        "*   ***Entities*** correspond to nouns in English. Entities define objects and serve as the basic units in a meta-model (e.g., Component, Function, etc.) ​\n",
        "*   ***Relationships*** are similar to verbs. Each relationship has a definite subject and object (e.g. a Component performs a Function).​\n",
        "*    Attributes further describe entities much like adjectives modify nouns. The attributes of an entity serve to define critical properties of entities. (e.g. Component entity includes number and type attributes).  \n",
        "*   ***Attributed-Relationships*** (i.e., attributes on relationships) correspond to adverbs in English. The attributes of a relationship serve to define critical properties of the relationship. For instance, attributes of a consumes relationship would include the quantity being consumed. ​\n",
        "*   ***Structures*** provide specification of semantically explicit system control constructs (Concurrency, Iteration, Loop, Multiple Exit, Replication, Selection, and Sequence). Using this explicit notation, the behavior of the system can be validated and executed using a simulator. "
      ]
    },
    {
      "cell_type": "code",
      "metadata": {
        "colab": {
          "base_uri": "https://localhost:8080/",
          "height": 321
        },
        "cellView": "form",
        "id": "irqANQUvAaLm",
        "outputId": "698d7d28-14b5-41a5-9e46-20c084a85b75"
      },
      "source": [
        "#@title Top-Level MBSE Meta-Model\n",
        "from IPython.display import Image\n",
        "Image(height=300, url='https://raw.githubusercontent.com/tsherburne/de-textbook/main/images/meta-model-foundation.png')"
      ],
      "execution_count": 2,
      "outputs": [
        {
          "output_type": "execute_result",
          "data": {
            "text/html": [
              "<img src=\"https://raw.githubusercontent.com/tsherburne/de-textbook/main/images/meta-model-foundation.png\" height=\"300\"/>"
            ],
            "text/plain": [
              "<IPython.core.display.Image object>"
            ]
          },
          "metadata": {},
          "execution_count": 2
        }
      ]
    },
    {
      "cell_type": "code",
      "metadata": {
        "colab": {
          "base_uri": "https://localhost:8080/",
          "height": 421
        },
        "cellView": "form",
        "id": "90cDfh2hBNbc",
        "outputId": "1ae5b6cc-7129-44b0-e086-153acaa7839e"
      },
      "source": [
        "#@title Essential MBSE Meta-Model\n",
        "from IPython.display import Image\n",
        "Image(height=400, url='https://raw.githubusercontent.com/tsherburne/de-textbook/main/images/mbse-essential.png')"
      ],
      "execution_count": 5,
      "outputs": [
        {
          "output_type": "execute_result",
          "data": {
            "text/html": [
              "<img src=\"https://raw.githubusercontent.com/tsherburne/de-textbook/main/images/mbse-essential.png\" height=\"400\"/>"
            ],
            "text/plain": [
              "<IPython.core.display.Image object>"
            ]
          },
          "metadata": {},
          "execution_count": 5
        }
      ]
    },
    {
      "cell_type": "markdown",
      "metadata": {
        "id": "KWIkt5qn30EB"
      },
      "source": [
        "# Secure Cyber Resilience Engineering (SCRE)\n",
        "\n"
      ]
    },
    {
      "cell_type": "markdown",
      "metadata": {
        "id": "uQRsFzEA65oR"
      },
      "source": [
        "# DE Textbook Chapters\n",
        "\n",
        "\n",
        "\n",
        "\n"
      ]
    },
    {
      "cell_type": "markdown",
      "metadata": {
        "id": "CGZ4LU7t8DZt"
      },
      "source": [
        "*   Mission Engineering\n",
        "  *   (SCRE) [Operational Risk Assesment](https://)\n",
        "*   Requirements Analysis\n",
        "*   "
      ]
    }
  ]
}