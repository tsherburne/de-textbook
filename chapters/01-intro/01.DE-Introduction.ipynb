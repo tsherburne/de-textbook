{
 "cells": [
  {
   "cell_type": "markdown",
   "metadata": {
    "id": "t0GYo5ZfmYJM",
    "slideshow": {
     "slide_type": "slide"
    }
   },
   "source": [
    "# Introduction"
   ]
  },
  {
   "cell_type": "markdown",
   "metadata": {
    "id": "wzulaW1eUEeE",
    "slideshow": {
     "slide_type": "slide"
    }
   },
   "source": [
    "## Digital Engineering"
   ]
  },
  {
   "cell_type": "markdown",
   "metadata": {
    "id": "a92sh7DbUICk",
    "slideshow": {
     "slide_type": "subslide"
    }
   },
   "source": [
    "[SEBoK Definition](https://www.sebokwiki.org/wiki/Digital_Engineering)\n",
    "\n",
    "\n",
    "*   The crux of digital engineering is the creation of ***computer readable*** models to represent all aspects of the system and to support all the activities for the design, development, manufacture, and operation of the system throughout its lifecycle.\n",
    "*   These computer models would have to be based on shared data ***schemata*** so that in effect a digital thread integrates all the diverse stakeholders involved in the acquisition of new weapon systems.\n",
    "*   Model-based systems engineering (MBSE) is a subset of digital engineering. MBSE supports the systems engineering activities of requirements, architecture, design, verification, and validation. These models would have to be connected to the physics-based models used by other engineering disciplines such as mechanical and electrical engineering.\n",
    "*   Foundation to digital engineering is the representation of the system data in a format sharable between all stakeholders. SysML 2.0 is one of several future developments promising to provide a representation sufficient to support digital engineering. An ontology defining the entities and relationships between them can be used to define the concepts relevant to systems engineering. Such a representation is necessary to create the digital thread linking all the models together in a cohesive and useful manner.\n",
    "\n"
   ]
  },
  {
   "cell_type": "markdown",
   "metadata": {
    "slideshow": {
     "slide_type": "subslide"
    }
   },
   "source": [
    "### Digital Engineering Foundations\n",
    "\n",
    "\n",
    "![Digital Engineering Foundations](../../images/meta-model-foundation.png)"
   ]
  },
  {
   "cell_type": "markdown",
   "metadata": {
    "id": "wSPJ-6tyCrLg",
    "slideshow": {
     "slide_type": "slide"
    }
   },
   "source": [
    "## System Definition Language"
   ]
  },
  {
   "cell_type": "markdown",
   "metadata": {
    "id": "5KPXoz5EcbSk",
    "slideshow": {
     "slide_type": "subslide"
    }
   },
   "source": [
    "A ***System Definition Language (SDL)*** is a formal, structured language which avoids the ambiguity inherent in using common English to define or specify a system. The precise meaning of each language concept is fixed and documented to enhance team communication and assure unambiguous interpretation of specifications using this language. SDL is based on the following primitive language concepts:​\n",
    "\n",
    "*   ***Entities*** correspond to nouns in English. Entities define objects and serve as the basic units in a meta-model (e.g., Component, Function, etc.) ​\n",
    "*   ***Relationships*** are similar to verbs. Each relationship has a definite subject and object (e.g. a Component performs a Function).​\n",
    "*    Attributes further describe entities much like adjectives modify nouns. The attributes of an entity serve to define critical properties of entities. (e.g. Component entity includes number and type attributes).  \n",
    "*   ***Attributed-Relationships*** (i.e., attributes on relationships) correspond to adverbs in English. The attributes of a relationship serve to define critical properties of the relationship. For instance, attributes of a consumes relationship would include the quantity being consumed. ​\n",
    "*   ***Structures*** provide specification of semantically explicit system control constructs (Concurrency, Iteration, Loop, Multiple Exit, Replication, Selection, and Sequence). Using this explicit notation, the behavior of the system can be validated and executed using a simulator. "
   ]
  },
  {
   "cell_type": "markdown",
   "metadata": {
    "slideshow": {
     "slide_type": "subslide"
    }
   },
   "source": [
    "### Essential Meta-Model\n",
    "\n",
    "![Essential Meta Model](../../images/mbse-essential.png)"
   ]
  },
  {
   "cell_type": "markdown",
   "metadata": {
    "slideshow": {
     "slide_type": "subslide"
    }
   },
   "source": [
    ">>*   **Requirement:**\n",
    ">>*   **Component:** \n",
    ">>*   **Function:**\n",
    ">>*   **Structure:**\n",
    ">>*   **Link:**\n",
    ">>*   **Item:**\n",
    ">>*   **Constraint:**\n",
    ">>*   **Verification Requirement:**"
   ]
  },
  {
   "cell_type": "markdown",
   "metadata": {
    "id": "-3iBhJBcBmO9",
    "slideshow": {
     "slide_type": "slide"
    }
   },
   "source": [
    "## SysML V2 Introduction"
   ]
  },
  {
   "cell_type": "code",
   "execution_count": 1,
   "metadata": {
    "colab": {
     "base_uri": "https://localhost:8080/",
     "height": 621
    },
    "executionInfo": {
     "elapsed": 296,
     "status": "ok",
     "timestamp": 1625571946560,
     "user": {
      "displayName": "Tim Sherburne",
      "photoUrl": "https://lh3.googleusercontent.com/a-/AOh14GhOi9dB1PBBH2vQmIWk7CHo0My8jCtapAM5dYK2ow=s64",
      "userId": "14808835211698837762"
     },
     "user_tz": 240
    },
    "id": "7Fc_kX7XBOwU",
    "outputId": "dbc5a87e-b116-46c5-99e5-1d350930f434",
    "slideshow": {
     "slide_type": "subslide"
    }
   },
   "outputs": [
    {
     "data": {
      "image/jpeg": "[encoded data removed]",
      "text/html": [
       "\n",
       "        <iframe\n",
       "            width=\"900\"\n",
       "            height=\"600\"\n",
       "            src=\"https://www.youtube.com/embed/vj5BOy5G8ho\"\n",
       "            frameborder=\"0\"\n",
       "            allowfullscreen\n",
       "        ></iframe>\n",
       "        "
      ],
      "text/plain": [
       "<IPython.lib.display.YouTubeVideo at 0x7f66e8702e20>"
      ]
     },
     "execution_count": 1,
     "metadata": {},
     "output_type": "execute_result"
    }
   ],
   "source": [
    "from IPython.display import YouTubeVideo\n",
    "YouTubeVideo('vj5BOy5G8ho',width=900,height=600)"
   ]
  },
  {
   "cell_type": "markdown",
   "metadata": {
    "id": "XPziPu8onMq3",
    "slideshow": {
     "slide_type": "slide"
    }
   },
   "source": [
    "# Data Store - Authoritative Source"
   ]
  },
  {
   "cell_type": "markdown",
   "metadata": {
    "id": "Izh5ZmK5nYmS"
   },
   "source": [
    "## Google Sheet as Data Store\n",
    "\n",
    "\n",
    "\n",
    "> [Demonstration Google Sheet](https://docs.google.com/spreadsheets/d/1--HHib0pDa3KSTSLxXAyLT0BuxijG9IOHcGuFypKu4o/edit#gid=0)\n",
    "\n",
    "\n",
    "\n",
    "*   ***Tab*** as Entity\n",
    "*   ***Column*** as Attribute\n",
    "*   ***Relations Tab***  for Relationships\n",
    "*   ***Relation Attributes Tab*** for Attribute-Relationships"
   ]
  },
  {
   "cell_type": "markdown",
   "metadata": {
    "id": "JlP8wR-wBiMg",
    "slideshow": {
     "slide_type": "skip"
    }
   },
   "source": [
    "## [Fauna DB](https://fauna.com/features) as Data Store\n",
    "\n"
   ]
  },
  {
   "cell_type": "code",
   "execution_count": null,
   "metadata": {
    "colab": {
     "base_uri": "https://localhost:8080/"
    },
    "executionInfo": {
     "elapsed": 297,
     "status": "ok",
     "timestamp": 1625578646280,
     "user": {
      "displayName": "Tim Sherburne",
      "photoUrl": "https://lh3.googleusercontent.com/a-/AOh14GhOi9dB1PBBH2vQmIWk7CHo0My8jCtapAM5dYK2ow=s64",
      "userId": "14808835211698837762"
     },
     "user_tz": 240
    },
    "id": "_7QgORxcBpAQ",
    "outputId": "5712d33c-c977-4dc5-9573-f0e3e42c8dda",
    "slideshow": {
     "slide_type": "skip"
    }
   },
   "outputs": [
    {
     "name": "stdout",
     "output_type": "stream",
     "text": [
      "Writing de.graphql\n"
     ]
    }
   ],
   "source": [
    "%%writefile de.graphql\n",
    "enum RequirementType {\n",
    "    Contraint\n",
    "    Functional\n",
    "    Performance\n",
    "}\n",
    "\n",
    "enum ComponentType {\n",
    "    Environment\n",
    "    HardwareElement\n",
    "    Human\n",
    "    SoftwareElement\n",
    "    System\n",
    "}\n",
    "\n",
    "type Requirement {\n",
    "    number: String!\n",
    "    name: String!\n",
    "    description: String\n",
    "    type: RequirementType\n",
    "    specifiesComponent: [Component!]! @relation\n",
    "    specifiesFunction: [Function!]! @relation\n",
    "}\n",
    "\n",
    "type Component {\n",
    "    number: String!\n",
    "    name: String!\n",
    "    description: String\n",
    "    type: ComponentType\n",
    "    specified_by: [Requirement!]! @relation\n",
    "}\n",
    "\n",
    "type Function {\n",
    "    number: String!\n",
    "    name: String!\n",
    "    description: String\n",
    "    specified_by: [Requirement!]! @relation\n",
    "}"
   ]
  },
  {
   "cell_type": "code",
   "execution_count": null,
   "metadata": {
    "id": "nk7PN7o1CnVe",
    "slideshow": {
     "slide_type": "skip"
    }
   },
   "outputs": [],
   "source": [
    "!pip install faunadb\n",
    "from faunadb import query as q\n",
    "from faunadb.objects import Ref\n",
    "from faunadb.client import FaunaClient"
   ]
  },
  {
   "cell_type": "markdown",
   "metadata": {
    "id": "w1BjJpBVmxjA",
    "slideshow": {
     "slide_type": "skip"
    }
   },
   "source": [
    "# Transformations"
   ]
  },
  {
   "cell_type": "markdown",
   "metadata": {
    "id": "ruD12__kFAw4",
    "slideshow": {
     "slide_type": "slide"
    }
   },
   "source": [
    "##  Diagram View - PlantUML"
   ]
  },
  {
   "cell_type": "code",
   "execution_count": null,
   "metadata": {
    "id": "-H2mWFo4hGJY",
    "slideshow": {
     "slide_type": "skip"
    }
   },
   "outputs": [],
   "source": [
    "!pip install iplantuml\n",
    "import iplantuml"
   ]
  },
  {
   "cell_type": "code",
   "execution_count": null,
   "metadata": {
    "colab": {
     "base_uri": "https://localhost:8080/",
     "height": 215
    },
    "executionInfo": {
     "elapsed": 1408,
     "status": "ok",
     "timestamp": 1625571990668,
     "user": {
      "displayName": "Tim Sherburne",
      "photoUrl": "https://lh3.googleusercontent.com/a-/AOh14GhOi9dB1PBBH2vQmIWk7CHo0My8jCtapAM5dYK2ow=s64",
      "userId": "14808835211698837762"
     },
     "user_tz": 240
    },
    "id": "788PYA59hgu0",
    "outputId": "eca86e8b-0bdb-44fd-fcf5-6a26b71cefd7",
    "slideshow": {
     "slide_type": "subslide"
    }
   },
   "outputs": [
    {
     "data": {
      "image/svg+xml": [
       "<svg contentScriptType=\"application/ecmascript\" contentStyleType=\"text/css\" height=\"194px\" preserveAspectRatio=\"none\" style=\"width:215px;height:194px;background:#FFFFFF;\" version=\"1.1\" viewBox=\"0 0 215 194\" width=\"215px\" xmlns=\"http://www.w3.org/2000/svg\" xmlns:xlink=\"http://www.w3.org/1999/xlink\" zoomAndPan=\"magnify\"><defs><filter height=\"300%\" id=\"f3uqasiel83gt\" width=\"300%\" x=\"-1\" y=\"-1\"><feGaussianBlur result=\"blurOut\" stdDeviation=\"2.0\"/><feColorMatrix in=\"blurOut\" result=\"blurOut2\" type=\"matrix\" values=\"0 0 0 0 0 0 0 0 0 0 0 0 0 0 0 0 0 0 .4 0\"/><feOffset dx=\"4.0\" dy=\"4.0\" in=\"blurOut2\" result=\"blurOut3\"/><feBlend in=\"SourceGraphic\" in2=\"blurOut3\" mode=\"normal\"/></filter></defs><g><ellipse cx=\"104.5\" cy=\"20\" fill=\"#000000\" filter=\"url(#f3uqasiel83gt)\" rx=\"10\" ry=\"10\" style=\"stroke:none;stroke-width:1.0;\"/><rect fill=\"#000000\" filter=\"url(#f3uqasiel83gt)\" height=\"6\" rx=\"2.5\" ry=\"2.5\" style=\"stroke:#000000;stroke-width:1.0;\" width=\"187\" x=\"11\" y=\"50\"/><rect fill=\"#FEFECE\" filter=\"url(#f3uqasiel83gt)\" height=\"33.9688\" rx=\"12.5\" ry=\"12.5\" style=\"stroke:#A80036;stroke-width:1.5;\" width=\"67\" x=\"23\" y=\"76\"/><text fill=\"#000000\" font-family=\"sans-serif\" font-size=\"12\" lengthAdjust=\"spacing\" textLength=\"47\" x=\"33\" y=\"97.1387\">action 1</text><rect fill=\"#FEFECE\" filter=\"url(#f3uqasiel83gt)\" height=\"33.9688\" rx=\"12.5\" ry=\"12.5\" style=\"stroke:#A80036;stroke-width:1.5;\" width=\"68\" x=\"118\" y=\"76\"/><text fill=\"#000000\" font-family=\"sans-serif\" font-size=\"12\" lengthAdjust=\"spacing\" textLength=\"48\" x=\"128\" y=\"97.1387\">action 2</text><rect fill=\"#000000\" filter=\"url(#f3uqasiel83gt)\" height=\"6\" rx=\"2.5\" ry=\"2.5\" style=\"stroke:#000000;stroke-width:1.0;\" width=\"187\" x=\"11\" y=\"129.9688\"/><ellipse cx=\"104.5\" cy=\"166.9688\" fill=\"#FFFFFF\" filter=\"url(#f3uqasiel83gt)\" rx=\"11\" ry=\"11\" style=\"stroke:#000000;stroke-width:1.0;\"/><ellipse cx=\"104.5\" cy=\"166.9688\" fill=\"#000000\" rx=\"6\" ry=\"6\" style=\"stroke:#7F7F7F;stroke-width:1.0;\"/><line style=\"stroke:#A80036;stroke-width:1.5;\" x1=\"56.5\" x2=\"56.5\" y1=\"56\" y2=\"76\"/><polygon fill=\"#A80036\" points=\"52.5,66,56.5,76,60.5,66,56.5,70\" style=\"stroke:#A80036;stroke-width:1.0;\"/><line style=\"stroke:#A80036;stroke-width:1.5;\" x1=\"152\" x2=\"152\" y1=\"56\" y2=\"76\"/><polygon fill=\"#A80036\" points=\"148,66,152,76,156,66,152,70\" style=\"stroke:#A80036;stroke-width:1.0;\"/><line style=\"stroke:#A80036;stroke-width:1.5;\" x1=\"56.5\" x2=\"56.5\" y1=\"109.9688\" y2=\"129.9688\"/><polygon fill=\"#A80036\" points=\"52.5,119.9688,56.5,129.9688,60.5,119.9688,56.5,123.9688\" style=\"stroke:#A80036;stroke-width:1.0;\"/><line style=\"stroke:#A80036;stroke-width:1.5;\" x1=\"152\" x2=\"152\" y1=\"109.9688\" y2=\"129.9688\"/><polygon fill=\"#A80036\" points=\"148,119.9688,152,129.9688,156,119.9688,152,123.9688\" style=\"stroke:#A80036;stroke-width:1.0;\"/><line style=\"stroke:#A80036;stroke-width:1.5;\" x1=\"104.5\" x2=\"104.5\" y1=\"30\" y2=\"50\"/><polygon fill=\"#A80036\" points=\"100.5,40,104.5,50,108.5,40,104.5,44\" style=\"stroke:#A80036;stroke-width:1.0;\"/><line style=\"stroke:#A80036;stroke-width:1.5;\" x1=\"104.5\" x2=\"104.5\" y1=\"135.9688\" y2=\"155.9688\"/><polygon fill=\"#A80036\" points=\"100.5,145.9688,104.5,155.9688,108.5,145.9688,104.5,149.9688\" style=\"stroke:#A80036;stroke-width:1.0;\"/><!--MD5=[2755fe60f3c9c41648322438214944b1]\n",
       "@startuml\n",
       "start\n",
       "fork\n",
       "  :action 1;\n",
       "fork again\n",
       "  :action 2;\n",
       "end fork\n",
       "stop\n",
       "@enduml\n",
       "\n",
       "PlantUML version 1.2021.9beta2(Unknown compile time)\n",
       "(GPL source distribution)\n",
       "Java Runtime: Java(TM) SE Runtime Environment\n",
       "JVM: Java HotSpot(TM) 64-Bit Server VM\n",
       "Default Encoding: UTF-8\n",
       "Language: en\n",
       "Country: US\n",
       "--></g></svg>"
      ],
      "text/plain": [
       "<IPython.core.display.SVG object>"
      ]
     },
     "execution_count": 3,
     "metadata": {
      "tags": []
     },
     "output_type": "execute_result"
    }
   ],
   "source": [
    "%%plantuml \n",
    "\n",
    "@startuml\n",
    "start\n",
    "fork\n",
    "  :action 1;\n",
    "fork again\n",
    "  :action 2;\n",
    "end fork\n",
    "stop\n",
    "@enduml"
   ]
  },
  {
   "cell_type": "markdown",
   "metadata": {
    "id": "UKGv1lfuN5gz"
   },
   "source": [
    "##  Tabluar View"
   ]
  },
  {
   "cell_type": "markdown",
   "metadata": {
    "id": "8i_vHCzrQmnK"
   },
   "source": [
    "##  Form Editing"
   ]
  },
  {
   "cell_type": "code",
   "execution_count": null,
   "metadata": {
    "colab": {
     "base_uri": "https://localhost:8080/"
    },
    "executionInfo": {
     "elapsed": 1292,
     "status": "ok",
     "timestamp": 1625572015320,
     "user": {
      "displayName": "Tim Sherburne",
      "photoUrl": "https://lh3.googleusercontent.com/a-/AOh14GhOi9dB1PBBH2vQmIWk7CHo0My8jCtapAM5dYK2ow=s64",
      "userId": "14808835211698837762"
     },
     "user_tz": 240
    },
    "id": "0wY15qiiTw-P",
    "outputId": "f7263c72-98bd-4141-8ed0-b3835b4ee096"
   },
   "outputs": [
    {
     "name": "stdout",
     "output_type": "stream",
     "text": [
      "{'data': [Ref(id=products_by_customer, collection=Ref(id=indexes)), Ref(id=products_by_store, collection=Ref(id=indexes)), Ref(id=inventory_by_product, collection=Ref(id=indexes)), Ref(id=products_by_price_high_to_low, collection=Ref(id=indexes)), Ref(id=products_by_price_low_to_high, collection=Ref(id=indexes)), Ref(id=all_orders, collection=Ref(id=indexes)), Ref(id=all_customers, collection=Ref(id=indexes)), Ref(id=all_stores, collection=Ref(id=indexes)), Ref(id=all_products, collection=Ref(id=indexes))]}\n"
     ]
    }
   ],
   "source": [
    "client = FaunaClient(secret=\"fnAENJFA7PACRMLJZydkSs_LfSBG9DDAEkYDOC_x\")\n",
    "indexes = client.query(q.paginate(q.indexes()))\n",
    "print(indexes)\n"
   ]
  },
  {
   "cell_type": "markdown",
   "metadata": {
    "id": "yCx9NFAKDOgC"
   },
   "source": [
    "\n",
    "\n",
    "# References\n",
    "\n",
    "\n"
   ]
  },
  {
   "cell_type": "markdown",
   "metadata": {
    "id": "gqC8wJ2eTA7Z"
   },
   "source": [
    "[Python Linear Programming](https://realpython.com/linear-programming-python/)"
   ]
  },
  {
   "cell_type": "code",
   "execution_count": null,
   "metadata": {
    "id": "emsgNJVaG9bS"
   },
   "outputs": [],
   "source": [
    "from google.colab import auth\n",
    "auth.authenticate_user()\n",
    "\n",
    "import gspread\n",
    "from oauth2client.client import GoogleCredentials\n",
    "\n",
    "gc = gspread.authorize(GoogleCredentials.get_application_default())\n",
    "\n",
    "sh = gc.create('A new spreadsheet')\n",
    "\n",
    "# Open our new sheet and add some data.\n",
    "worksheet = gc.open('A new spreadsheet').sheet1\n",
    "\n",
    "cell_list = worksheet.range('A1:C2')\n",
    "\n",
    "import random\n",
    "for cell in cell_list:\n",
    "  cell.value = random.randint(1, 10)\n",
    "\n",
    "worksheet.update_cells(cell_list)\n",
    "# Go to https://sheets.google.com to see your new spreadsheet."
   ]
  },
  {
   "cell_type": "code",
   "execution_count": null,
   "metadata": {
    "id": "lLnj5xVUHC7Q"
   },
   "outputs": [],
   "source": [
    "from google.colab import auth\n",
    "auth.authenticate_user()\n",
    "\n",
    "import gspread\n",
    "from oauth2client.client import GoogleCredentials\n",
    "\n",
    "gc = gspread.authorize(GoogleCredentials.get_application_default())\n",
    "\n",
    "worksheet = gc.open('Your spreadsheet name').sheet1\n",
    "\n",
    "# get_all_values gives a list of rows.\n",
    "rows = worksheet.get_all_values()\n",
    "print(rows)\n",
    "\n",
    "# Convert to a DataFrame and render.\n",
    "import pandas as pd\n",
    "pd.DataFrame.from_records(rows)"
   ]
  },
  {
   "cell_type": "code",
   "execution_count": null,
   "metadata": {
    "colab": {
     "base_uri": "https://localhost:8080/"
    },
    "executionInfo": {
     "elapsed": 8083,
     "status": "ok",
     "timestamp": 1628014735988,
     "user": {
      "displayName": "Tim Sherburne",
      "photoUrl": "https://lh3.googleusercontent.com/a-/AOh14GhOi9dB1PBBH2vQmIWk7CHo0My8jCtapAM5dYK2ow=s64",
      "userId": "14808835211698837762"
     },
     "user_tz": 240
    },
    "id": "Thl18mBcPOAa",
    "outputId": "7adc0c61-8331-4edf-dac0-96c201e386b2"
   },
   "outputs": [
    {
     "name": "stdout",
     "output_type": "stream",
     "text": [
      "Requirement already satisfied: scipy==1.4.* in /usr/local/lib/python3.7/dist-packages (1.4.1)\n",
      "Collecting pulp==2.1\n",
      "  Downloading PuLP-2.1-py3-none-any.whl (40.6 MB)\n",
      "\u001b[K     |████████████████████████████████| 40.6 MB 71 kB/s \n",
      "\u001b[?25hRequirement already satisfied: numpy>=1.13.3 in /usr/local/lib/python3.7/dist-packages (from scipy==1.4.*) (1.19.5)\n",
      "Requirement already satisfied: pyparsing>=2.0.1 in /usr/local/lib/python3.7/dist-packages (from pulp==2.1) (2.4.7)\n",
      "Installing collected packages: pulp\n",
      "Successfully installed pulp-2.1\n"
     ]
    }
   ],
   "source": [
    "!pip install -U \"scipy==1.4.*\" \"pulp==2.1\""
   ]
  },
  {
   "cell_type": "code",
   "execution_count": null,
   "metadata": {
    "id": "xJrkIF_0qq94"
   },
   "outputs": [],
   "source": []
  },
  {
   "cell_type": "markdown",
   "metadata": {
    "id": "HT34x-bDVF_a"
   },
   "source": [
    "[WRT-1006 Technical Report: Developing the Digital\n",
    "Engineering Competency Framework (DECF) – Phase 2](https://drive.google.com/file/d/10MtIK1Kd1EWQtTHeQMfKpBeQJQsBVPF0/view)\n",
    "\n",
    "*   knowledge, skills, abilities, and behaviors (KSABs)\n",
    "*   "
   ]
  }
 ],
 "metadata": {
  "celltoolbar": "Slideshow",
  "colab": {
   "collapsed_sections": [],
   "name": "01 - DE-Introduction.ipynb",
   "provenance": [],
   "toc_visible": true
  },
  "kernelspec": {
   "display_name": "Python 3 (ipykernel)",
   "language": "python",
   "name": "python3"
  },
  "language_info": {
   "codemirror_mode": {
    "name": "ipython",
    "version": 3
   },
   "file_extension": ".py",
   "mimetype": "text/x-python",
   "name": "python",
   "nbconvert_exporter": "python",
   "pygments_lexer": "ipython3",
   "version": "3.8.10"
  },
  "rise": {
   "enable_chalkboard": true,
   "theme": "white"
  }
 },
 "nbformat": 4,
 "nbformat_minor": 1
}
