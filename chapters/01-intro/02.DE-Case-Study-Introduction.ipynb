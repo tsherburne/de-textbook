{
 "cells": [
  {
   "cell_type": "markdown",
   "metadata": {
    "id": "Dm_ijrnTtLk7",
    "slideshow": {
     "slide_type": "slide"
    }
   },
   "source": [
    "# Overview"
   ]
  },
  {
   "cell_type": "markdown",
   "metadata": {
    "colab": {
     "base_uri": "https://localhost:8080/",
     "height": 0
    },
    "executionInfo": {
     "elapsed": 130,
     "status": "ok",
     "timestamp": 1628612462197,
     "user": {
      "displayName": "Tim Sherburne",
      "photoUrl": "https://lh3.googleusercontent.com/a-/AOh14GiTfzRbHBPAcNLjS870g6snpkNLMFZTv2L4l2U6=s64",
      "userId": "06425099927351404122"
     },
     "user_tz": 240
    },
    "id": "pUFhuHvjayvW",
    "outputId": "4828a7ed-cabd-4996-bb6b-9c158dc2bf48",
    "slideshow": {
     "slide_type": "subslide"
    }
   },
   "source": [
    "## Silverfish Overview\n",
    "\n",
    "![Silverfish Overview](../../images/silverfish-overview.png)"
   ]
  },
  {
   "cell_type": "markdown",
   "metadata": {
    "id": "MSpjLVgJslid",
    "slideshow": {
     "slide_type": "slide"
    }
   },
   "source": [
    "# Requirements"
   ]
  },
  {
   "cell_type": "markdown",
   "metadata": {
    "id": "lvVeHPepKFRG",
    "slideshow": {
     "slide_type": "slide"
    }
   },
   "source": [
    "## Constraint Calculator"
   ]
  },
  {
   "cell_type": "code",
   "execution_count": 1,
   "metadata": {
    "slideshow": {
     "slide_type": "subslide"
    },
    "tags": [
     "hide-cell"
    ]
   },
   "outputs": [
    {
     "data": {
      "application/vnd.jupyter.widget-view+json": {
       "model_id": "ce6a2604e1b54245a932a924013b9596",
       "version_major": 2,
       "version_minor": 0
      },
      "text/plain": [
       "interactive(children=(IntSlider(value=10, description='field_area', max=30, min=-10), Output()), _dom_classes=…"
      ]
     },
     "metadata": {},
     "output_type": "display_data"
    },
    {
     "data": {
      "application/vnd.jupyter.widget-view+json": {
       "model_id": "9b08bb26e1774037bfb35581e8e52220",
       "version_major": 2,
       "version_minor": 0
      },
      "text/plain": [
       "interactive(children=(IntSlider(value=10, description='speed', max=30, min=-10), Output()), _dom_classes=('wid…"
      ]
     },
     "metadata": {},
     "output_type": "display_data"
    }
   ],
   "source": [
    "import math\n",
    "from ipywidgets import interact\n",
    "\n",
    "def set_field_area(field_area):\n",
    "    return\n",
    "\n",
    "def set_speed(speed):\n",
    "    return\n",
    "\n",
    "def time_to_cross():\n",
    "    pass\n",
    "\n",
    "I = interact(set_field_area, field_area=10)\n",
    "I = interact(set_speed, speed=10)"
   ]
  },
  {
   "cell_type": "markdown",
   "metadata": {
    "id": "jO9KPSvFJ5ZM",
    "slideshow": {
     "slide_type": "skip"
    }
   },
   "source": [
    "## Data Store Access Routines"
   ]
  },
  {
   "cell_type": "code",
   "execution_count": 2,
   "metadata": {
    "colab": {
     "base_uri": "https://localhost:8080/"
    },
    "executionInfo": {
     "elapsed": 38691,
     "status": "ok",
     "timestamp": 1628612500992,
     "user": {
      "displayName": "Tim Sherburne",
      "photoUrl": "https://lh3.googleusercontent.com/a-/AOh14GiTfzRbHBPAcNLjS870g6snpkNLMFZTv2L4l2U6=s64",
      "userId": "06425099927351404122"
     },
     "user_tz": 240
    },
    "id": "kW1YqxGNhyOt",
    "outputId": "af1fe0af-a9ac-4d79-b2cb-3785da5b79b8",
    "slideshow": {
     "slide_type": "skip"
    }
   },
   "outputs": [
    {
     "ename": "ModuleNotFoundError",
     "evalue": "No module named 'google'",
     "output_type": "error",
     "traceback": [
      "\u001b[0;31m---------------------------------------------------------------------------\u001b[0m",
      "\u001b[0;31mModuleNotFoundError\u001b[0m                       Traceback (most recent call last)",
      "\u001b[0;32m/tmp/ipykernel_47985/2246013004.py\u001b[0m in \u001b[0;36m<module>\u001b[0;34m\u001b[0m\n\u001b[1;32m     39\u001b[0m   \u001b[0msheet\u001b[0m\u001b[0;34m.\u001b[0m\u001b[0mupdate_cell\u001b[0m\u001b[0;34m(\u001b[0m\u001b[0mcell\u001b[0m\u001b[0;34m[\u001b[0m\u001b[0;34m'row'\u001b[0m\u001b[0;34m]\u001b[0m\u001b[0;34m,\u001b[0m \u001b[0mcell\u001b[0m\u001b[0;34m[\u001b[0m\u001b[0;34m'col'\u001b[0m\u001b[0;34m]\u001b[0m\u001b[0;34m,\u001b[0m \u001b[0mvalue\u001b[0m\u001b[0;34m)\u001b[0m\u001b[0;34m\u001b[0m\u001b[0;34m\u001b[0m\u001b[0m\n\u001b[1;32m     40\u001b[0m \u001b[0;34m\u001b[0m\u001b[0m\n\u001b[0;32m---> 41\u001b[0;31m \u001b[0mwrite_cell\u001b[0m\u001b[0;34m(\u001b[0m\u001b[0;34m'Constraints'\u001b[0m\u001b[0;34m,\u001b[0m \u001b[0;34m'887b0ef2-b6a1-473b-ba50-d50a22889cbd'\u001b[0m\u001b[0;34m,\u001b[0m \u001b[0;34m'dependent-value'\u001b[0m\u001b[0;34m,\u001b[0m \u001b[0;34m'3.2'\u001b[0m\u001b[0;34m)\u001b[0m\u001b[0;34m\u001b[0m\u001b[0;34m\u001b[0m\u001b[0m\n\u001b[0m\u001b[1;32m     42\u001b[0m \u001b[0mvalue\u001b[0m \u001b[0;34m=\u001b[0m \u001b[0mread_cell\u001b[0m\u001b[0;34m(\u001b[0m\u001b[0;34m'Constraints'\u001b[0m\u001b[0;34m,\u001b[0m \u001b[0;34m'887b0ef2-b6a1-473b-ba50-d50a22889cbd'\u001b[0m\u001b[0;34m,\u001b[0m \u001b[0;34m'dependent-value'\u001b[0m\u001b[0;34m)\u001b[0m\u001b[0;34m\u001b[0m\u001b[0;34m\u001b[0m\u001b[0m\n\u001b[1;32m     43\u001b[0m \u001b[0mprint\u001b[0m\u001b[0;34m(\u001b[0m\u001b[0mvalue\u001b[0m\u001b[0;34m)\u001b[0m\u001b[0;34m\u001b[0m\u001b[0;34m\u001b[0m\u001b[0m\n",
      "\u001b[0;32m/tmp/ipykernel_47985/2246013004.py\u001b[0m in \u001b[0;36mwrite_cell\u001b[0;34m(entity, uuid, attr, value)\u001b[0m\n\u001b[1;32m     35\u001b[0m \u001b[0;34m\u001b[0m\u001b[0m\n\u001b[1;32m     36\u001b[0m \u001b[0;32mdef\u001b[0m \u001b[0mwrite_cell\u001b[0m\u001b[0;34m(\u001b[0m\u001b[0mentity\u001b[0m\u001b[0;34m:\u001b[0m \u001b[0mstr\u001b[0m\u001b[0;34m,\u001b[0m \u001b[0muuid\u001b[0m\u001b[0;34m:\u001b[0m \u001b[0mstr\u001b[0m\u001b[0;34m,\u001b[0m \u001b[0mattr\u001b[0m\u001b[0;34m:\u001b[0m \u001b[0mstr\u001b[0m\u001b[0;34m,\u001b[0m \u001b[0mvalue\u001b[0m\u001b[0;34m:\u001b[0m \u001b[0mstr\u001b[0m\u001b[0;34m)\u001b[0m\u001b[0;34m:\u001b[0m\u001b[0;34m\u001b[0m\u001b[0;34m\u001b[0m\u001b[0m\n\u001b[0;32m---> 37\u001b[0;31m   \u001b[0msheet\u001b[0m \u001b[0;34m=\u001b[0m \u001b[0minitialize\u001b[0m\u001b[0;34m(\u001b[0m\u001b[0mentity\u001b[0m\u001b[0;34m)\u001b[0m\u001b[0;34m\u001b[0m\u001b[0;34m\u001b[0m\u001b[0m\n\u001b[0m\u001b[1;32m     38\u001b[0m   \u001b[0mcell\u001b[0m \u001b[0;34m=\u001b[0m \u001b[0mfind_cell\u001b[0m\u001b[0;34m(\u001b[0m\u001b[0msheet\u001b[0m\u001b[0;34m,\u001b[0m \u001b[0muuid\u001b[0m\u001b[0;34m,\u001b[0m \u001b[0mattr\u001b[0m\u001b[0;34m)\u001b[0m\u001b[0;34m\u001b[0m\u001b[0;34m\u001b[0m\u001b[0m\n\u001b[1;32m     39\u001b[0m   \u001b[0msheet\u001b[0m\u001b[0;34m.\u001b[0m\u001b[0mupdate_cell\u001b[0m\u001b[0;34m(\u001b[0m\u001b[0mcell\u001b[0m\u001b[0;34m[\u001b[0m\u001b[0;34m'row'\u001b[0m\u001b[0;34m]\u001b[0m\u001b[0;34m,\u001b[0m \u001b[0mcell\u001b[0m\u001b[0;34m[\u001b[0m\u001b[0;34m'col'\u001b[0m\u001b[0;34m]\u001b[0m\u001b[0;34m,\u001b[0m \u001b[0mvalue\u001b[0m\u001b[0;34m)\u001b[0m\u001b[0;34m\u001b[0m\u001b[0;34m\u001b[0m\u001b[0m\n",
      "\u001b[0;32m/tmp/ipykernel_47985/2246013004.py\u001b[0m in \u001b[0;36minitialize\u001b[0;34m(entity)\u001b[0m\n\u001b[1;32m      1\u001b[0m \u001b[0;32mdef\u001b[0m \u001b[0minitialize\u001b[0m\u001b[0;34m(\u001b[0m\u001b[0mentity\u001b[0m\u001b[0;34m:\u001b[0m \u001b[0mstr\u001b[0m\u001b[0;34m)\u001b[0m \u001b[0;34m->\u001b[0m \u001b[0mobject\u001b[0m\u001b[0;34m:\u001b[0m\u001b[0;34m\u001b[0m\u001b[0;34m\u001b[0m\u001b[0m\n\u001b[0;32m----> 2\u001b[0;31m   \u001b[0;32mfrom\u001b[0m \u001b[0mgoogle\u001b[0m\u001b[0;34m.\u001b[0m\u001b[0mcolab\u001b[0m \u001b[0;32mimport\u001b[0m \u001b[0mauth\u001b[0m\u001b[0;34m\u001b[0m\u001b[0;34m\u001b[0m\u001b[0m\n\u001b[0m\u001b[1;32m      3\u001b[0m   \u001b[0mauth\u001b[0m\u001b[0;34m.\u001b[0m\u001b[0mauthenticate_user\u001b[0m\u001b[0;34m(\u001b[0m\u001b[0;34m)\u001b[0m\u001b[0;34m\u001b[0m\u001b[0;34m\u001b[0m\u001b[0m\n\u001b[1;32m      4\u001b[0m \u001b[0;34m\u001b[0m\u001b[0m\n\u001b[1;32m      5\u001b[0m   \u001b[0;32mimport\u001b[0m \u001b[0mgspread\u001b[0m\u001b[0;34m\u001b[0m\u001b[0;34m\u001b[0m\u001b[0m\n",
      "\u001b[0;31mModuleNotFoundError\u001b[0m: No module named 'google'"
     ]
    }
   ],
   "source": [
    "def initialize(entity: str) -> object:\n",
    "  from google.colab import auth\n",
    "  auth.authenticate_user()\n",
    "\n",
    "  import gspread\n",
    "  from oauth2client.client import GoogleCredentials\n",
    "  gc = gspread.authorize(GoogleCredentials.get_application_default())\n",
    "\n",
    "  # default to digital engineering data sheet\n",
    "  de_data = gc.open_by_key('1--HHib0pDa3KSTSLxXAyLT0BuxijG9IOHcGuFypKu4o')\n",
    "  sheet = de_data.worksheet(entity)\n",
    "  return sheet\n",
    "\n",
    "def find_cell(sheet: object, uuid: str, attr: str) -> dict:\n",
    "  # find column number for attr\n",
    "  attr_col = 0\n",
    "  attr_found = False\n",
    "\n",
    "  values_list = sheet.row_values(1)\n",
    "  for value in values_list:\n",
    "    attr_col += 1\n",
    "    if value == attr:\n",
    "      attr_found = True\n",
    "      break;\n",
    "  if attr_found == False:\n",
    "    raise Exception(\"attribute name not found: \" + attr )\n",
    "  \n",
    "  cell = sheet.find(uuid)\n",
    "  return {\"row\": cell.row, \"col\": attr_col}\n",
    "\n",
    "def read_cell(entity: str, uuid: str, attr: str) -> str:\n",
    "  sheet = initialize(entity)\n",
    "  cell = find_cell(sheet, uuid, attr)\n",
    "  return sheet.cell(cell['row'], cell['col']).value\n",
    "\n",
    "def write_cell(entity: str, uuid: str, attr: str, value: str):\n",
    "  sheet = initialize(entity)\n",
    "  cell = find_cell(sheet, uuid, attr)  \n",
    "  sheet.update_cell(cell['row'], cell['col'], value)\n",
    "\n",
    "write_cell('Constraints', '887b0ef2-b6a1-473b-ba50-d50a22889cbd', 'dependent-value', '3.2')\n",
    "value = read_cell('Constraints', '887b0ef2-b6a1-473b-ba50-d50a22889cbd', 'dependent-value')\n",
    "print(value)"
   ]
  },
  {
   "cell_type": "code",
   "execution_count": 4,
   "metadata": {
    "colab": {
     "base_uri": "https://localhost:8080/"
    },
    "executionInfo": {
     "elapsed": 4776,
     "status": "ok",
     "timestamp": 1628612800833,
     "user": {
      "displayName": "Tim Sherburne",
      "photoUrl": "https://lh3.googleusercontent.com/a-/AOh14GiTfzRbHBPAcNLjS870g6snpkNLMFZTv2L4l2U6=s64",
      "userId": "06425099927351404122"
     },
     "user_tz": 240
    },
    "id": "IbczefshtY6_",
    "outputId": "483a2df2-fbd8-4e9a-e0db-8977e7494d35",
    "slideshow": {
     "slide_type": "skip"
    }
   },
   "outputs": [
    {
     "name": "stdout",
     "output_type": "stream",
     "text": [
      "Protected Area Size (acres): 100\n",
      "Attacker Speed (mph): 7\n",
      "Time to Cross (minutes): 3.4\n"
     ]
    }
   ],
   "source": [
    "import math\n",
    "#@title Protected Area Crossing Time { run: \"auto\", form-width: \"50%\", display-mode: \"form\" }\n",
    "\n",
    "#@markdown * size (acres)\n",
    "#@markdown * speed (mph)\n",
    "protected_area_size = 100  #@param {type: \"slider\", min: 0, max: 100}\n",
    "attacker_speed = 7 #@param {type: \"slider\", min: 1, max: 10}\n",
    "\n",
    "#@markdown \n",
    "time_to_cross = round((math.sqrt(protected_area_size / 640) / attacker_speed) * 60,1)\n",
    "\n",
    "print(\"Protected Area Size (acres): \" + str(protected_area_size))\n",
    "print(\"Attacker Speed (mph): \" + str(attacker_speed))\n",
    "print(\"Time to Cross (minutes): \" + str(time_to_cross))\n",
    "\n",
    "#write_cell('Parameters', 'a60f6f82-9dd3-4ff3-823f-fce2b84043cc', 'objective', protected_area_size)\n",
    "#write_cell('Parameters', '4a6975ad-f6ea-4d1b-b892-712556e33dd2', 'objective', attacker_speed)\n",
    "#write_cell('Constraints', '887b0ef2-b6a1-473b-ba50-d50a22889cbd', 'dependent-value', time_to_cross)"
   ]
  }
 ],
 "metadata": {
  "celltoolbar": "Slideshow",
  "colab": {
   "collapsed_sections": [],
   "name": "02 - DE-Case-Study-Introduction",
   "provenance": []
  },
  "kernelspec": {
   "display_name": "Python 3 (ipykernel)",
   "language": "python",
   "name": "python3"
  },
  "language_info": {
   "codemirror_mode": {
    "name": "ipython",
    "version": 3
   },
   "file_extension": ".py",
   "mimetype": "text/x-python",
   "name": "python",
   "nbconvert_exporter": "python",
   "pygments_lexer": "ipython3",
   "version": "3.8.10"
  }
 },
 "nbformat": 4,
 "nbformat_minor": 1
}
