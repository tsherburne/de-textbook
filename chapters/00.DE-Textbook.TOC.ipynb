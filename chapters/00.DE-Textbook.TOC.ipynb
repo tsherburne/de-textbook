{
 "cells": [
  {
   "cell_type": "markdown",
   "metadata": {
    "id": "BjGEMc7ZNlZ9"
   },
   "source": [
    "# Digital Engineering (DE) Digital Textbook\n",
    "\n",
    ">[Digital Engineering Overview](https://colab.research.google.com/drive/1FB3jVzvEyL67SOWbf1JistoxF0zHP0Mw)\n",
    "\n",
    ">[Silverfish Case Study Introduction](https://colab.research.google.com/drive/17b9fLTGcIoH1v7JdAgQ2_pn6ogZHocN4)\n",
    "\n",
    ">[Carwash Case Study Introduction](https://colab.research.google.com/drive/17b9fLTGcIoH1v7JdAgQ2_pn6ogZHocN4)"
   ]
  },
  {
   "cell_type": "markdown",
   "metadata": {
    "id": "_7wOiP2TOSxK"
   },
   "source": [
    "# Student Environment Setup\n",
    "\n",
    "Customize by career type and proficiency level."
   ]
  },
  {
   "cell_type": "markdown",
   "metadata": {
    "id": "ZY6-KxozOqTy"
   },
   "source": [
    "# Mission Engineering Module\n"
   ]
  },
  {
   "cell_type": "markdown",
   "metadata": {
    "id": "cpeTLkxtPNjz"
   },
   "source": [
    "## Mission Aware: Operational Risk Assesment Module\n",
    "\n",
    ">STPA"
   ]
  }
 ],
 "metadata": {
  "colab": {
   "collapsed_sections": [],
   "name": "00 - DE-Textbook-TOC.ipynb",
   "provenance": []
  },
  "kernelspec": {
   "display_name": "Python 3 (ipykernel)",
   "language": "python",
   "name": "python3"
  },
  "language_info": {
   "codemirror_mode": {
    "name": "ipython",
    "version": 3
   },
   "file_extension": ".py",
   "mimetype": "text/x-python",
   "name": "python",
   "nbconvert_exporter": "python",
   "pygments_lexer": "ipython3",
   "version": "3.8.10"
  }
 },
 "nbformat": 4,
 "nbformat_minor": 1
}
