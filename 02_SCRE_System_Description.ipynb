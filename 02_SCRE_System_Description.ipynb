{
 "cells": [
  {
   "cell_type": "markdown",
   "metadata": {},
   "source": [
    "# Initialize Notebook"
   ]
  },
  {
   "cell_type": "code",
   "execution_count": null,
   "metadata": {
    "cellView": "form",
    "id": "yanj4hCUW50S",
    "s": []
   },
   "outputs": [],
   "source": [
    "#@title Download & Install Notebook Packages\n",
    "%pip install -q manb\n",
    "import manb\n",
    "env = manb.Environment('https://genesys.mission-aware.net', '/api/v1/')"
   ]
  },
  {
   "cell_type": "code",
   "execution_count": null,
   "metadata": {
    "cellView": "form",
    "id": "_u6jvG7hlf-7"
   },
   "outputs": [],
   "source": [
    "#@title Cloudflare Tunnel Authentication\n",
    "env.Tunnel()"
   ]
  },
  {
   "cell_type": "code",
   "execution_count": null,
   "metadata": {
    "cellView": "form",
    "id": "KwhEzBBymEH2",
    "tags": []
   },
   "outputs": [],
   "source": [
    "#@title GENESY Login & Project Selection\n",
    "env.Login()"
   ]
  },
  {
   "cell_type": "markdown",
   "metadata": {},
   "source": [
    "# System Description"
   ]
  },
  {
   "cell_type": "code",
   "execution_count": null,
   "metadata": {},
   "outputs": [],
   "source": [
    "#@title Initialize System Description\n",
    "sd = manb.SystemDescription(env)"
   ]
  },
  {
   "cell_type": "code",
   "execution_count": null,
   "metadata": {},
   "outputs": [],
   "source": [
    "#@title Use Case Diagrams\n",
    "sd.UseCaseDiagrams()"
   ]
  },
  {
   "cell_type": "code",
   "execution_count": null,
   "metadata": {},
   "outputs": [],
   "source": [
    "#@title Use Case Table\n",
    "sd.UseCaseTable()"
   ]
  },
  {
   "cell_type": "markdown",
   "metadata": {},
   "source": [
    "## Control Structure Diagram\n",
    "\n",
    "A ***hierarchical control structure*** is a system \n",
    "model that is composed of feedback control loops. An effective \n",
    "control structure will enforce constraints on the behavior of the \n",
    "overall system.\n",
    "\n",
    "----\n",
    "\n",
    "### MBSE ***Control Structure*** Entities & Relationships\n",
    "\n",
    "> <img src=\"https://raw.githubusercontent.com/tsherburne/de-textbook/main/images/mission-aware-mbse-control-structure.png\" height=\"175\" />"
   ]
  },
  {
   "cell_type": "markdown",
   "metadata": {},
   "source": [
    "----\n",
    "\n",
    "| Entity | Description |\n",
    "| :---   | :----       | \n",
    "| Control Action | A controller provides control actions to control some process and to enforce constraints on the behavior of the <br> controlled process.|\n",
    "| Component | A component is an abstract term that represents the physical or logical entity that performs a specific function <br> or functions.|\n",
    "| Feedback | Process models may be updated in part by feedback used to observe the controlled process.|\n",
    "| Function | A function is a transformation that accepts one or more inputs (items) and transforms them into outputs (items).|\n",
    "| Item | An item represent flows within and between functions. An item is an input to or an output from a function.|\n",
    "| Use Case | A use case identifies a piece of the functionality of a system in terms of how the users use the system to <br> achieve their goals (mission). Use cases are high-level descriptions of behavior under a specific set of conditions. <br>These high-level descriptions can then be elaborated to define the system behavior.|\n",
    "\n",
    "----"
   ]
  },
  {
   "cell_type": "code",
   "execution_count": null,
   "metadata": {},
   "outputs": [],
   "source": [
    "#@title System ***Context*** & ***Control Structure*** Diagram\n",
    "sd.ControlStructureDiagram()"
   ]
  },
  {
   "cell_type": "code",
   "execution_count": null,
   "metadata": {
    "cellView": "form",
    "id": "MKYtNVTJ77VL"
   },
   "outputs": [],
   "source": [
    "#@title System ***Control Actions***\n",
    "sd.ControlActionTable()"
   ]
  },
  {
   "cell_type": "code",
   "execution_count": null,
   "metadata": {},
   "outputs": [],
   "source": [
    "#@title Message Sequence Diagrams\n",
    "sd.MSCDiagrams()"
   ]
  }
 ],
 "metadata": {
  "interpreter": {
   "hash": "916dbcbb3f70747c44a77c7bcd40155683ae19c65e1c03b4aa3499c5328201f1"
  },
  "kernelspec": {
   "display_name": "Python 3.8.10 64-bit",
   "language": "python",
   "name": "python3"
  },
  "language_info": {
   "codemirror_mode": {
    "name": "ipython",
    "version": 3
   },
   "file_extension": ".py",
   "mimetype": "text/x-python",
   "name": "python",
   "nbconvert_exporter": "python",
   "pygments_lexer": "ipython3",
   "version": "3.8.10"
  },
  "orig_nbformat": 4
 },
 "nbformat": 4,
 "nbformat_minor": 2
}
