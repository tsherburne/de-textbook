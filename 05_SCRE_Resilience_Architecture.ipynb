{
  "cells": [
    {
      "cell_type": "markdown",
      "metadata": {
        "id": "view-in-github",
        "colab_type": "text"
      },
      "source": [
        "<a href=\"https://colab.research.google.com/github/tsherburne/de-textbook/blob/main/05_SCRE_Resilience_Architecture.ipynb\" target=\"_parent\"><img src=\"https://colab.research.google.com/assets/colab-badge.svg\" alt=\"Open In Colab\"/></a>"
      ]
    },
    {
      "cell_type": "markdown",
      "metadata": {
        "id": "8t7y0zGTsoHt"
      },
      "source": [
        "<a href=\"https://colab.research.google.com/github/tsherburne/de-textbook/blob/main/05_SCRE_Resilience_Architecture.ipynb\" target=\"_parent\"><img src=\"https://colab.research.google.com/assets/colab-badge.svg\" alt=\"Open In Colab\"/></a>"
      ]
    },
    {
      "cell_type": "markdown",
      "metadata": {
        "id": "yxyGsrYcsoHw"
      },
      "source": [
        "# Initialize Notebook"
      ]
    },
    {
      "cell_type": "code",
      "execution_count": null,
      "metadata": {
        "id": "6l3GIZt8soHw",
        "cellView": "form"
      },
      "outputs": [],
      "source": [
        "#@title Download & Install Notebook Packages\n",
        "%pip install -q manb\n",
        "import manb\n",
        "env = manb.Environment('https://genesys.mission-aware.net', '/api/v1/')"
      ]
    },
    {
      "cell_type": "code",
      "execution_count": null,
      "metadata": {
        "id": "L4g52IOhsoHx",
        "cellView": "form"
      },
      "outputs": [],
      "source": [
        "#@title Cloudflare Tunnel Authentication\n",
        "try:\n",
        "  env.Tunnel()\n",
        "except NameError:\n",
        "  print(\"Notebook not yet initialized - see above\")  "
      ]
    },
    {
      "cell_type": "code",
      "execution_count": null,
      "metadata": {
        "id": "VuDq3hXUsoHy",
        "cellView": "form"
      },
      "outputs": [],
      "source": [
        "#@title GENESYS Login & Project Selection\n",
        "try:\n",
        "  env.Login()\n",
        "except NameError:\n",
        "  print(\"Notebook not yet initialized - see above\")"
      ]
    },
    {
      "cell_type": "markdown",
      "metadata": {
        "id": "cH7a0HR-soHy"
      },
      "source": [
        "# Resilience Architecture Analysis"
      ]
    },
    {
      "cell_type": "code",
      "source": [
        "#@title Initialize Resilience Architecture Analysis\n",
        "try:\n",
        "  arch = manb.ResilienceArchitecture(env)\n",
        "except NameError:\n",
        "  print(\"Notebook not yet initialized - see above\")"
      ],
      "metadata": {
        "cellView": "form",
        "id": "cEcfjA_Wv6ox"
      },
      "execution_count": null,
      "outputs": []
    },
    {
      "cell_type": "markdown",
      "source": [
        "## Loss Scenario Elaboration"
      ],
      "metadata": {
        "id": "EcSrZejduI2Y"
      }
    },
    {
      "cell_type": "markdown",
      "source": [
        "### MBSE for Loss Scenario Elaboration\n",
        "\n",
        "> <img src=\"https://raw.githubusercontent.com/tsherburne/de-textbook/main/images/mission-aware-loss-scenario-elaboration.png\" height=\"350\" />\n"
      ],
      "metadata": {
        "id": "mlMI4cJtvDal"
      }
    },
    {
      "cell_type": "code",
      "source": [
        ""
      ],
      "metadata": {
        "id": "dqE0066I39zZ"
      },
      "execution_count": null,
      "outputs": []
    },
    {
      "cell_type": "markdown",
      "source": [
        "## Requirements Elicitation"
      ],
      "metadata": {
        "id": "YRw84C4puPyw"
      }
    },
    {
      "cell_type": "markdown",
      "source": [
        "\n",
        "### MBSE for Requirements Elicitation\n",
        "\n",
        "> <img src=\"https://raw.githubusercontent.com/tsherburne/de-textbook/main/images/mission-aware-requirements-elicitation.png\" height=\"350\" />\n"
      ],
      "metadata": {
        "id": "3-cqnS1JvLXY"
      }
    },
    {
      "cell_type": "code",
      "execution_count": null,
      "metadata": {
        "id": "6AGnw-fGsoHy"
      },
      "outputs": [],
      "source": [
        ""
      ]
    }
  ],
  "metadata": {
    "interpreter": {
      "hash": "916dbcbb3f70747c44a77c7bcd40155683ae19c65e1c03b4aa3499c5328201f1"
    },
    "kernelspec": {
      "display_name": "Python 3.8.10 64-bit",
      "language": "python",
      "name": "python3"
    },
    "language_info": {
      "codemirror_mode": {
        "name": "ipython",
        "version": 3
      },
      "file_extension": ".py",
      "mimetype": "text/x-python",
      "name": "python",
      "nbconvert_exporter": "python",
      "pygments_lexer": "ipython3",
      "version": "3.8.10"
    },
    "orig_nbformat": 4,
    "colab": {
      "name": "05_SCRE_Resilience_Architecture.ipynb",
      "provenance": [],
      "collapsed_sections": [],
      "toc_visible": true,
      "include_colab_link": true
    }
  },
  "nbformat": 4,
  "nbformat_minor": 0
}