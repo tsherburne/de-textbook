{
  "cells": [
    {
      "cell_type": "markdown",
      "metadata": {
        "id": "view-in-github",
        "colab_type": "text"
      },
      "source": [
        "<a href=\"https://colab.research.google.com/github/tsherburne/de-textbook/blob/main/05_SCRE_Resilience_Architecture.ipynb\" target=\"_parent\"><img src=\"https://colab.research.google.com/assets/colab-badge.svg\" alt=\"Open In Colab\"/></a>"
      ]
    },
    {
      "cell_type": "markdown",
      "metadata": {
        "id": "yxyGsrYcsoHw"
      },
      "source": [
        "# Initialize Notebook"
      ]
    },
    {
      "cell_type": "code",
      "execution_count": 2,
      "metadata": {
        "cellView": "form",
        "id": "6l3GIZt8soHw",
        "outputId": "23c4dcad-833c-4814-f69b-4094ff58592f",
        "colab": {
          "base_uri": "https://localhost:8080/",
          "height": 51,
          "referenced_widgets": [
            "8d256536db0a4d16b3661bf66c607a13",
            "5afce0e3abeb44e2aba95d9f4c3e8227",
            "6616c8a0bc3b44c08e91e4dd0e5a8830",
            "bbff50e017bc4f05985355d0889283b7",
            "bf252ff5a6ec4cdb94beb588feeced9c"
          ]
        }
      },
      "outputs": [
        {
          "output_type": "display_data",
          "data": {
            "application/vnd.jupyter.widget-view+json": {
              "model_id": "8d256536db0a4d16b3661bf66c607a13",
              "version_minor": 0,
              "version_major": 2
            },
            "text/plain": [
              "Output(layout=Layout(border='1px solid black'))"
            ]
          },
          "metadata": {}
        }
      ],
      "source": [
        "#@title Download & Install Notebook Packages\n",
        "%pip install -q manb\n",
        "import manb\n",
        "env = manb.Environment('https://genesys.mission-aware.net', '/api/v1/')"
      ]
    },
    {
      "cell_type": "code",
      "execution_count": 3,
      "metadata": {
        "cellView": "form",
        "id": "L4g52IOhsoHx",
        "outputId": "be0f355a-d1bc-410c-afbc-21f93c61da5c",
        "colab": {
          "base_uri": "https://localhost:8080/"
        }
      },
      "outputs": [
        {
          "output_type": "stream",
          "name": "stdout",
          "text": [
            "Tunnel authentication not required for local repository.\n"
          ]
        }
      ],
      "source": [
        "#@title Cloudflare Tunnel Authentication\n",
        "try:\n",
        "  env.Tunnel()\n",
        "except NameError:\n",
        "  print(\"\\033[2;31mERROR:\\033[0;0m Notebook not yet initialized - see above.\")"
      ]
    },
    {
      "cell_type": "code",
      "execution_count": 4,
      "metadata": {
        "cellView": "form",
        "id": "VuDq3hXUsoHy",
        "outputId": "60d82e2e-20f4-4f8d-fb31-e5925cf3525d",
        "colab": {
          "base_uri": "https://localhost:8080/",
          "height": 113,
          "referenced_widgets": [
            "e834860f0c30430aaa8020779a15c94c",
            "58fa9cb002954b049386802a303bb7d9",
            "fa1adafa98b44914b97a9be849b82eed",
            "20ad57a8cad943aea37184c65b6e15c0",
            "22513ebfcddf4f07a77135648be6a830",
            "ff44c6e27fae48338c06dcd39c3e78fa",
            "0274f68601d649c5a15249e3e3ffbf96"
          ]
        }
      },
      "outputs": [
        {
          "output_type": "display_data",
          "data": {
            "application/vnd.jupyter.widget-view+json": {
              "model_id": "e834860f0c30430aaa8020779a15c94c",
              "version_minor": 0,
              "version_major": 2
            },
            "text/plain": [
              "Output(layout=Layout(border='1px solid black'))"
            ]
          },
          "metadata": {}
        }
      ],
      "source": [
        "#@title GENESYS Login & Project Selection\n",
        "try:\n",
        "  env.Login()\n",
        "except NameError:\n",
        "  print(\"\\033[2;31mERROR:\\033[0;0m Notebook not yet initialized - see above.\")"
      ]
    },
    {
      "cell_type": "markdown",
      "metadata": {
        "id": "cH7a0HR-soHy"
      },
      "source": [
        "# Resilience Architecture Analysis"
      ]
    },
    {
      "cell_type": "code",
      "execution_count": 5,
      "metadata": {
        "cellView": "form",
        "id": "cEcfjA_Wv6ox",
        "outputId": "bd9bc4ee-af01-4b2d-a8ba-7762b48002b1",
        "colab": {
          "base_uri": "https://localhost:8080/"
        }
      },
      "outputs": [
        {
          "output_type": "stream",
          "name": "stdout",
          "text": [
            "Structure Definition Fetch Complete!\n"
          ]
        }
      ],
      "source": [
        "#@title Initialize Resilience Architecture Analysis\n",
        "try:  \n",
        "  arch = manb.ResilienceArchitecture(env)\n",
        "except NameError:\n",
        "  print(\"\\033[2;31mERROR:\\033[0;0m Notebook not yet initialized - see above.\")"
      ]
    },
    {
      "cell_type": "markdown",
      "metadata": {
        "id": "EcSrZejduI2Y"
      },
      "source": [
        "## Loss Scenario Elaboration"
      ]
    },
    {
      "cell_type": "markdown",
      "metadata": {
        "id": "mlMI4cJtvDal"
      },
      "source": [
        "### MBSE for Loss Scenario Elaboration\n",
        "\n",
        "> <img src=\"https://raw.githubusercontent.com/tsherburne/de-textbook/main/images/mission-aware-loss-scenario-elaboration.png\" height=\"350\" />\n"
      ]
    },
    {
      "cell_type": "code",
      "execution_count": 6,
      "metadata": {
        "id": "dqE0066I39zZ",
        "cellView": "form"
      },
      "outputs": [],
      "source": [
        "#@title Resilient Modes Table\n",
        "try:  \n",
        "  arch.ResilientModeTable()\n",
        "except NameError:\n",
        "  print(\"\\033[2;31mERROR:\\033[0;0m Notebook not yet initialized - see above.\")"
      ]
    },
    {
      "cell_type": "code",
      "execution_count": 7,
      "metadata": {
        "cellView": "form",
        "id": "892MzP-7n4i2"
      },
      "outputs": [],
      "source": [
        "#@title Loss Scenario Elaboration Table\n",
        "try:  \n",
        "  arch.LossScenarioElaborationTable()\n",
        "except NameError:\n",
        "  print(\"\\033[2;31mERROR:\\033[0;0m Notebook not yet initialized - see above.\")"
      ]
    },
    {
      "cell_type": "code",
      "execution_count": 8,
      "metadata": {
        "cellView": "form",
        "id": "ovX6pR_jn4i3",
        "outputId": "3ac6406f-3f9f-4454-97c6-a08eef39b459",
        "colab": {
          "base_uri": "https://localhost:8080/",
          "height": 566,
          "referenced_widgets": [
            "3e6f3a91ba184dda871183d2876ef4e0",
            "a7a3a33b8a7c453bb4622101905893c0"
          ]
        }
      },
      "outputs": [
        {
          "output_type": "display_data",
          "data": {
            "application/vnd.jupyter.widget-view+json": {
              "model_id": "3e6f3a91ba184dda871183d2876ef4e0",
              "version_minor": 0,
              "version_major": 2
            },
            "text/plain": [
              "Output(layout=Layout(border='1px solid black'))"
            ]
          },
          "metadata": {}
        }
      ],
      "source": [
        "#@title Loss Scenario Message Sequence Diagrams\n",
        "try:\n",
        "  arch.LossScenarioMSCDiagrams()\n",
        "except NameError:\n",
        "  print(\"\\033[2;31mERROR:\\033[0;0m Notebook not yet initialized - see above.\")"
      ]
    },
    {
      "cell_type": "markdown",
      "metadata": {
        "id": "YRw84C4puPyw"
      },
      "source": [
        "## Requirements Elicitation"
      ]
    },
    {
      "cell_type": "markdown",
      "metadata": {
        "id": "3-cqnS1JvLXY"
      },
      "source": [
        "\n",
        "### MBSE for Requirements Elicitation\n",
        "\n",
        "> <img src=\"https://raw.githubusercontent.com/tsherburne/de-textbook/main/images/mission-aware-requirements-elicitation.png\" height=\"350\" />\n"
      ]
    },
    {
      "cell_type": "code",
      "execution_count": null,
      "metadata": {
        "id": "6AGnw-fGsoHy",
        "cellView": "form"
      },
      "outputs": [],
      "source": [
        "#@title Loss Scenario / Remediation Elicted Requirements Table\n",
        "try:  \n",
        "  arch.ElicitedRequirementsTable()\n",
        "except NameError:\n",
        "  print(\"\\033[2;31mERROR:\\033[0;0m Notebook not yet initialized - see above.\")"
      ]
    }
  ],
  "metadata": {
    "colab": {
      "collapsed_sections": [],
      "name": "05_SCRE_Resilience_Architecture.ipynb",
      "provenance": [],
      "toc_visible": true,
      "include_colab_link": true
    },
    "interpreter": {
      "hash": "916dbcbb3f70747c44a77c7bcd40155683ae19c65e1c03b4aa3499c5328201f1"
    },
    "kernelspec": {
      "display_name": "Python 3.8.10 64-bit",
      "language": "python",
      "name": "python3"
    },
    "language_info": {
      "codemirror_mode": {
        "name": "ipython",
        "version": 3
      },
      "file_extension": ".py",
      "mimetype": "text/x-python",
      "name": "python",
      "nbconvert_exporter": "python",
      "pygments_lexer": "ipython3",
      "version": "3.8.10"
    },
    "orig_nbformat": 4,
    "widgets": {
      "application/vnd.jupyter.widget-state+json": {
        "8d256536db0a4d16b3661bf66c607a13": {
          "model_module": "@jupyter-widgets/output",
          "model_name": "OutputModel",
          "model_module_version": "1.0.0",
          "state": {
            "_view_name": "OutputView",
            "msg_id": "",
            "_dom_classes": [],
            "_model_name": "OutputModel",
            "outputs": [
              {
                "output_type": "display_data",
                "data": {
                  "application/vnd.jupyter.widget-view+json": {
                    "model_id": "5afce0e3abeb44e2aba95d9f4c3e8227",
                    "version_minor": 0,
                    "version_major": 2
                  },
                  "text/plain": "ToggleButtons(description='Repository:', icons=('file', 'database'), options=('Local', 'Remote'), tooltips=('R…"
                },
                "metadata": {}
              }
            ],
            "_view_module": "@jupyter-widgets/output",
            "_model_module_version": "1.0.0",
            "_view_count": null,
            "_view_module_version": "1.0.0",
            "layout": "IPY_MODEL_6616c8a0bc3b44c08e91e4dd0e5a8830",
            "_model_module": "@jupyter-widgets/output"
          }
        },
        "5afce0e3abeb44e2aba95d9f4c3e8227": {
          "model_module": "@jupyter-widgets/controls",
          "model_name": "ToggleButtonsModel",
          "model_module_version": "1.5.0",
          "state": {
            "_options_labels": [
              "Local",
              "Remote"
            ],
            "_view_name": "ToggleButtonsView",
            "style": "IPY_MODEL_bbff50e017bc4f05985355d0889283b7",
            "_dom_classes": [],
            "description": "Repository:",
            "_model_name": "ToggleButtonsModel",
            "tooltips": [
              "Read-Only via Github JSON File",
              "Read-Write via GENESYS REST-API"
            ],
            "index": 0,
            "button_style": "",
            "_view_module": "@jupyter-widgets/controls",
            "_model_module_version": "1.5.0",
            "_view_count": null,
            "disabled": false,
            "_view_module_version": "1.5.0",
            "icons": [
              "file",
              "database"
            ],
            "description_tooltip": null,
            "_model_module": "@jupyter-widgets/controls",
            "layout": "IPY_MODEL_bf252ff5a6ec4cdb94beb588feeced9c"
          }
        },
        "6616c8a0bc3b44c08e91e4dd0e5a8830": {
          "model_module": "@jupyter-widgets/base",
          "model_name": "LayoutModel",
          "model_module_version": "1.2.0",
          "state": {
            "_view_name": "LayoutView",
            "grid_template_rows": null,
            "right": null,
            "justify_content": null,
            "_view_module": "@jupyter-widgets/base",
            "overflow": null,
            "_model_module_version": "1.2.0",
            "_view_count": null,
            "flex_flow": null,
            "width": null,
            "min_width": null,
            "border": "1px solid black",
            "align_items": null,
            "bottom": null,
            "_model_module": "@jupyter-widgets/base",
            "top": null,
            "grid_column": null,
            "overflow_y": null,
            "overflow_x": null,
            "grid_auto_flow": null,
            "grid_area": null,
            "grid_template_columns": null,
            "flex": null,
            "_model_name": "LayoutModel",
            "justify_items": null,
            "grid_row": null,
            "max_height": null,
            "align_content": null,
            "visibility": null,
            "align_self": null,
            "height": null,
            "min_height": null,
            "padding": null,
            "grid_auto_rows": null,
            "grid_gap": null,
            "max_width": null,
            "order": null,
            "_view_module_version": "1.2.0",
            "grid_template_areas": null,
            "object_position": null,
            "object_fit": null,
            "grid_auto_columns": null,
            "margin": null,
            "display": null,
            "left": null
          }
        },
        "bbff50e017bc4f05985355d0889283b7": {
          "model_module": "@jupyter-widgets/controls",
          "model_name": "ToggleButtonsStyleModel",
          "model_module_version": "1.5.0",
          "state": {
            "_view_name": "StyleView",
            "button_width": "",
            "_model_name": "ToggleButtonsStyleModel",
            "description_width": "",
            "_view_module": "@jupyter-widgets/base",
            "_model_module_version": "1.5.0",
            "_view_count": null,
            "font_weight": "",
            "_view_module_version": "1.2.0",
            "_model_module": "@jupyter-widgets/controls"
          }
        },
        "bf252ff5a6ec4cdb94beb588feeced9c": {
          "model_module": "@jupyter-widgets/base",
          "model_name": "LayoutModel",
          "model_module_version": "1.2.0",
          "state": {
            "_view_name": "LayoutView",
            "grid_template_rows": null,
            "right": null,
            "justify_content": null,
            "_view_module": "@jupyter-widgets/base",
            "overflow": null,
            "_model_module_version": "1.2.0",
            "_view_count": null,
            "flex_flow": null,
            "width": null,
            "min_width": null,
            "border": null,
            "align_items": null,
            "bottom": null,
            "_model_module": "@jupyter-widgets/base",
            "top": null,
            "grid_column": null,
            "overflow_y": null,
            "overflow_x": null,
            "grid_auto_flow": null,
            "grid_area": null,
            "grid_template_columns": null,
            "flex": null,
            "_model_name": "LayoutModel",
            "justify_items": null,
            "grid_row": null,
            "max_height": null,
            "align_content": null,
            "visibility": null,
            "align_self": null,
            "height": null,
            "min_height": null,
            "padding": null,
            "grid_auto_rows": null,
            "grid_gap": null,
            "max_width": null,
            "order": null,
            "_view_module_version": "1.2.0",
            "grid_template_areas": null,
            "object_position": null,
            "object_fit": null,
            "grid_auto_columns": null,
            "margin": null,
            "display": null,
            "left": null
          }
        },
        "e834860f0c30430aaa8020779a15c94c": {
          "model_module": "@jupyter-widgets/output",
          "model_name": "OutputModel",
          "model_module_version": "1.0.0",
          "state": {
            "_view_name": "OutputView",
            "msg_id": "",
            "_dom_classes": [],
            "_model_name": "OutputModel",
            "outputs": [
              {
                "output_type": "display_data",
                "data": {
                  "application/vnd.jupyter.widget-view+json": {
                    "model_id": "58fa9cb002954b049386802a303bb7d9",
                    "version_minor": 0,
                    "version_major": 2
                  },
                  "text/plain": "VBox(children=(Select(description='Project:', options=('Pipeline', 'Silverfish'), value='Pipeline'),))"
                },
                "metadata": {}
              }
            ],
            "_view_module": "@jupyter-widgets/output",
            "_model_module_version": "1.0.0",
            "_view_count": null,
            "_view_module_version": "1.0.0",
            "layout": "IPY_MODEL_fa1adafa98b44914b97a9be849b82eed",
            "_model_module": "@jupyter-widgets/output"
          }
        },
        "58fa9cb002954b049386802a303bb7d9": {
          "model_module": "@jupyter-widgets/controls",
          "model_name": "VBoxModel",
          "model_module_version": "1.5.0",
          "state": {
            "_view_name": "VBoxView",
            "_dom_classes": [],
            "_model_name": "VBoxModel",
            "_view_module": "@jupyter-widgets/controls",
            "_model_module_version": "1.5.0",
            "_view_count": null,
            "_view_module_version": "1.5.0",
            "box_style": "",
            "layout": "IPY_MODEL_20ad57a8cad943aea37184c65b6e15c0",
            "_model_module": "@jupyter-widgets/controls",
            "children": [
              "IPY_MODEL_22513ebfcddf4f07a77135648be6a830"
            ]
          }
        },
        "fa1adafa98b44914b97a9be849b82eed": {
          "model_module": "@jupyter-widgets/base",
          "model_name": "LayoutModel",
          "model_module_version": "1.2.0",
          "state": {
            "_view_name": "LayoutView",
            "grid_template_rows": null,
            "right": null,
            "justify_content": null,
            "_view_module": "@jupyter-widgets/base",
            "overflow": null,
            "_model_module_version": "1.2.0",
            "_view_count": null,
            "flex_flow": null,
            "width": null,
            "min_width": null,
            "border": "1px solid black",
            "align_items": null,
            "bottom": null,
            "_model_module": "@jupyter-widgets/base",
            "top": null,
            "grid_column": null,
            "overflow_y": null,
            "overflow_x": null,
            "grid_auto_flow": null,
            "grid_area": null,
            "grid_template_columns": null,
            "flex": null,
            "_model_name": "LayoutModel",
            "justify_items": null,
            "grid_row": null,
            "max_height": null,
            "align_content": null,
            "visibility": null,
            "align_self": null,
            "height": null,
            "min_height": null,
            "padding": null,
            "grid_auto_rows": null,
            "grid_gap": null,
            "max_width": null,
            "order": null,
            "_view_module_version": "1.2.0",
            "grid_template_areas": null,
            "object_position": null,
            "object_fit": null,
            "grid_auto_columns": null,
            "margin": null,
            "display": null,
            "left": null
          }
        },
        "20ad57a8cad943aea37184c65b6e15c0": {
          "model_module": "@jupyter-widgets/base",
          "model_name": "LayoutModel",
          "model_module_version": "1.2.0",
          "state": {
            "_view_name": "LayoutView",
            "grid_template_rows": null,
            "right": null,
            "justify_content": null,
            "_view_module": "@jupyter-widgets/base",
            "overflow": null,
            "_model_module_version": "1.2.0",
            "_view_count": null,
            "flex_flow": null,
            "width": null,
            "min_width": null,
            "border": null,
            "align_items": null,
            "bottom": null,
            "_model_module": "@jupyter-widgets/base",
            "top": null,
            "grid_column": null,
            "overflow_y": null,
            "overflow_x": null,
            "grid_auto_flow": null,
            "grid_area": null,
            "grid_template_columns": null,
            "flex": null,
            "_model_name": "LayoutModel",
            "justify_items": null,
            "grid_row": null,
            "max_height": null,
            "align_content": null,
            "visibility": null,
            "align_self": null,
            "height": null,
            "min_height": null,
            "padding": null,
            "grid_auto_rows": null,
            "grid_gap": null,
            "max_width": null,
            "order": null,
            "_view_module_version": "1.2.0",
            "grid_template_areas": null,
            "object_position": null,
            "object_fit": null,
            "grid_auto_columns": null,
            "margin": null,
            "display": null,
            "left": null
          }
        },
        "22513ebfcddf4f07a77135648be6a830": {
          "model_module": "@jupyter-widgets/controls",
          "model_name": "SelectModel",
          "model_module_version": "1.5.0",
          "state": {
            "_options_labels": [
              "Pipeline",
              "Silverfish"
            ],
            "_view_name": "SelectView",
            "style": "IPY_MODEL_ff44c6e27fae48338c06dcd39c3e78fa",
            "rows": 5,
            "_dom_classes": [],
            "description": "Project:",
            "_model_name": "SelectModel",
            "index": 1,
            "_view_module": "@jupyter-widgets/controls",
            "_model_module_version": "1.5.0",
            "_view_count": null,
            "disabled": false,
            "_view_module_version": "1.5.0",
            "description_tooltip": null,
            "_model_module": "@jupyter-widgets/controls",
            "layout": "IPY_MODEL_0274f68601d649c5a15249e3e3ffbf96"
          }
        },
        "ff44c6e27fae48338c06dcd39c3e78fa": {
          "model_module": "@jupyter-widgets/controls",
          "model_name": "DescriptionStyleModel",
          "model_module_version": "1.5.0",
          "state": {
            "_view_name": "StyleView",
            "_model_name": "DescriptionStyleModel",
            "description_width": "",
            "_view_module": "@jupyter-widgets/base",
            "_model_module_version": "1.5.0",
            "_view_count": null,
            "_view_module_version": "1.2.0",
            "_model_module": "@jupyter-widgets/controls"
          }
        },
        "0274f68601d649c5a15249e3e3ffbf96": {
          "model_module": "@jupyter-widgets/base",
          "model_name": "LayoutModel",
          "model_module_version": "1.2.0",
          "state": {
            "_view_name": "LayoutView",
            "grid_template_rows": null,
            "right": null,
            "justify_content": null,
            "_view_module": "@jupyter-widgets/base",
            "overflow": null,
            "_model_module_version": "1.2.0",
            "_view_count": null,
            "flex_flow": null,
            "width": null,
            "min_width": null,
            "border": null,
            "align_items": null,
            "bottom": null,
            "_model_module": "@jupyter-widgets/base",
            "top": null,
            "grid_column": null,
            "overflow_y": null,
            "overflow_x": null,
            "grid_auto_flow": null,
            "grid_area": null,
            "grid_template_columns": null,
            "flex": null,
            "_model_name": "LayoutModel",
            "justify_items": null,
            "grid_row": null,
            "max_height": null,
            "align_content": null,
            "visibility": null,
            "align_self": null,
            "height": null,
            "min_height": null,
            "padding": null,
            "grid_auto_rows": null,
            "grid_gap": null,
            "max_width": null,
            "order": null,
            "_view_module_version": "1.2.0",
            "grid_template_areas": null,
            "object_position": null,
            "object_fit": null,
            "grid_auto_columns": null,
            "margin": null,
            "display": null,
            "left": null
          }
        },
        "3e6f3a91ba184dda871183d2876ef4e0": {
          "model_module": "@jupyter-widgets/output",
          "model_name": "OutputModel",
          "model_module_version": "1.0.0",
          "state": {
            "_view_name": "OutputView",
            "msg_id": "",
            "_dom_classes": [],
            "_model_name": "OutputModel",
            "outputs": [
              {
                "output_type": "display_data",
                "data": {
                  "image/png": "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\n",
                  "text/plain": "<IPython.core.display.Image object>"
                },
                "metadata": {}
              }
            ],
            "_view_module": "@jupyter-widgets/output",
            "_model_module_version": "1.0.0",
            "_view_count": null,
            "_view_module_version": "1.0.0",
            "layout": "IPY_MODEL_a7a3a33b8a7c453bb4622101905893c0",
            "_model_module": "@jupyter-widgets/output"
          }
        },
        "a7a3a33b8a7c453bb4622101905893c0": {
          "model_module": "@jupyter-widgets/base",
          "model_name": "LayoutModel",
          "model_module_version": "1.2.0",
          "state": {
            "_view_name": "LayoutView",
            "grid_template_rows": null,
            "right": null,
            "justify_content": null,
            "_view_module": "@jupyter-widgets/base",
            "overflow": null,
            "_model_module_version": "1.2.0",
            "_view_count": null,
            "flex_flow": null,
            "width": null,
            "min_width": null,
            "border": "1px solid black",
            "align_items": null,
            "bottom": null,
            "_model_module": "@jupyter-widgets/base",
            "top": null,
            "grid_column": null,
            "overflow_y": null,
            "overflow_x": null,
            "grid_auto_flow": null,
            "grid_area": null,
            "grid_template_columns": null,
            "flex": null,
            "_model_name": "LayoutModel",
            "justify_items": null,
            "grid_row": null,
            "max_height": null,
            "align_content": null,
            "visibility": null,
            "align_self": null,
            "height": null,
            "min_height": null,
            "padding": null,
            "grid_auto_rows": null,
            "grid_gap": null,
            "max_width": null,
            "order": null,
            "_view_module_version": "1.2.0",
            "grid_template_areas": null,
            "object_position": null,
            "object_fit": null,
            "grid_auto_columns": null,
            "margin": null,
            "display": null,
            "left": null
          }
        }
      }
    }
  },
  "nbformat": 4,
  "nbformat_minor": 0
}