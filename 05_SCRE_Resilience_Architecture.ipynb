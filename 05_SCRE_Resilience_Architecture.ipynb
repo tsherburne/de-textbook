{
  "cells": [
    {
      "cell_type": "markdown",
      "metadata": {
        "colab_type": "text",
        "id": "view-in-github"
      },
      "source": [
        "<a href=\"https://colab.research.google.com/github/tsherburne/de-textbook/blob/main/05_SCRE_Resilience_Architecture.ipynb\" target=\"_parent\"><img src=\"https://colab.research.google.com/assets/colab-badge.svg\" alt=\"Open In Colab\"/></a>"
      ]
    },
    {
      "cell_type": "markdown",
      "metadata": {
        "id": "yxyGsrYcsoHw"
      },
      "source": [
        "# Initialize Notebook"
      ]
    },
    {
      "cell_type": "markdown",
      "metadata": {},
      "source": [
        "## Download & Install Notebook Packages"
      ]
    },
    {
      "cell_type": "code",
      "execution_count": null,
      "metadata": {
        "cellView": "form",
        "id": "6l3GIZt8soHw"
      },
      "outputs": [],
      "source": [
        "# Run Initialze Notebook\n",
        "%pip install -q manb\n",
        "import manb\n",
        "env = manb.Environment('https://genesys.mission-aware.net', '/api/v1/')"
      ]
    },
    {
      "cell_type": "markdown",
      "metadata": {},
      "source": [
        "## Cloudflare Tunnel Authentication"
      ]
    },
    {
      "cell_type": "code",
      "execution_count": null,
      "metadata": {
        "cellView": "form",
        "id": "L4g52IOhsoHx"
      },
      "outputs": [],
      "source": [
        "# Run Cloudflare Tunnel Authentication\n",
        "try:\n",
        "  env.Tunnel()\n",
        "except NameError:\n",
        "  print(\"\\033[2;31mERROR:\\033[0;0m Notebook not yet initialized - see above.\")"
      ]
    },
    {
      "cell_type": "markdown",
      "metadata": {},
      "source": [
        "## GENESYS Login & Project Selection"
      ]
    },
    {
      "cell_type": "code",
      "execution_count": null,
      "metadata": {
        "cellView": "form",
        "id": "VuDq3hXUsoHy"
      },
      "outputs": [],
      "source": [
        "# Run GENESYS Login & Project Selection\n",
        "try:\n",
        "  env.Login()\n",
        "except NameError:\n",
        "  print(\"\\033[2;31mERROR:\\033[0;0m Notebook not yet initialized - see above.\")"
      ]
    },
    {
      "cell_type": "markdown",
      "metadata": {
        "id": "cH7a0HR-soHy"
      },
      "source": [
        "# Resilience Architecture Analysis"
      ]
    },
    {
      "cell_type": "markdown",
      "metadata": {},
      "source": [
        "## Initialize Resilience Architecture Analysis"
      ]
    },
    {
      "cell_type": "code",
      "execution_count": null,
      "metadata": {
        "cellView": "form",
        "id": "cEcfjA_Wv6ox"
      },
      "outputs": [],
      "source": [
        "# Initialize Resilience Architecture Analysis\n",
        "try:  \n",
        "  arch = manb.ResilienceArchitecture(env)\n",
        "except NameError:\n",
        "  print(\"\\033[2;31mERROR:\\033[0;0m Notebook not yet initialized - see above.\")"
      ]
    },
    {
      "cell_type": "markdown",
      "metadata": {
        "id": "EcSrZejduI2Y"
      },
      "source": [
        "## Loss Scenario Elaboration"
      ]
    },
    {
      "cell_type": "markdown",
      "metadata": {
        "id": "mlMI4cJtvDal"
      },
      "source": [
        "### MBSE for Loss Scenario Elaboration\n",
        "\n",
        "> <img src=\"https://raw.githubusercontent.com/tsherburne/de-textbook/main/images/mission-aware-loss-scenario-elaboration.png\" height=\"350\" />\n"
      ]
    },
    {
      "cell_type": "markdown",
      "metadata": {},
      "source": [
        "### Resilient Modes Table\n",
        "Definition: \"Effectiveness\" (High / Medium / Low) of Resilient Mode's \n",
        "ability to remediate high \"likelihood\" attacks (Loss Scenarios) that are\n",
        "associated with high \"mission impact/consequence\" Losses."
      ]
    },
    {
      "cell_type": "code",
      "execution_count": null,
      "metadata": {
        "cellView": "form",
        "id": "dqE0066I39zZ"
      },
      "outputs": [],
      "source": [
        "# Generate Resilient Modes Table\n",
        "try:  \n",
        "  arch.ResilientModeTable()\n",
        "except NameError:\n",
        "  print(\"\\033[2;31mERROR:\\033[0;0m Notebook not yet initialized - see above.\")"
      ]
    },
    {
      "cell_type": "markdown",
      "metadata": {},
      "source": [
        "### Loss Scenario Elaboration Table"
      ]
    },
    {
      "cell_type": "code",
      "execution_count": null,
      "metadata": {
        "cellView": "form",
        "id": "892MzP-7n4i2"
      },
      "outputs": [],
      "source": [
        "# Generate Loss Scenario Elaboration Table\n",
        "try:  \n",
        "  arch.LossScenarioElaborationTable()\n",
        "except NameError:\n",
        "  print(\"\\033[2;31mERROR:\\033[0;0m Notebook not yet initialized - see above.\")"
      ]
    },
    {
      "cell_type": "markdown",
      "metadata": {},
      "source": [
        "### Loss Scenario Message Sequence Diagrams"
      ]
    },
    {
      "cell_type": "code",
      "execution_count": null,
      "metadata": {
        "cellView": "form",
        "id": "ovX6pR_jn4i3"
      },
      "outputs": [],
      "source": [
        "# Generate Loss Scenario Message Sequence Diagrams\n",
        "try:\n",
        "  arch.LossScenarioMSCDiagrams()\n",
        "except NameError:\n",
        "  print(\"\\033[2;31mERROR:\\033[0;0m Notebook not yet initialized - see above.\")"
      ]
    },
    {
      "cell_type": "markdown",
      "metadata": {
        "id": "YRw84C4puPyw"
      },
      "source": [
        "## Requirements Elicitation"
      ]
    },
    {
      "cell_type": "markdown",
      "metadata": {
        "id": "3-cqnS1JvLXY"
      },
      "source": [
        "### MBSE for Requirements Elicitation\n",
        "\n",
        "> <img src=\"https://raw.githubusercontent.com/tsherburne/de-textbook/main/images/mission-aware-requirements-elicitation.png\" height=\"350\" />\n"
      ]
    },
    {
      "cell_type": "markdown",
      "metadata": {},
      "source": [
        "### Loss Scenario / Remediation Eliced Requirements Table"
      ]
    },
    {
      "cell_type": "code",
      "execution_count": null,
      "metadata": {
        "cellView": "form",
        "id": "6AGnw-fGsoHy"
      },
      "outputs": [],
      "source": [
        "# Generate Loss Scenario / Remediation Elicted Requirements Table\n",
        "try:  \n",
        "  arch.ElicitedRequirementsTable()\n",
        "except NameError:\n",
        "  print(\"\\033[2;31mERROR:\\033[0;0m Notebook not yet initialized - see above.\")"
      ]
    }
  ],
  "metadata": {
    "colab": {
      "collapsed_sections": [],
      "include_colab_link": true,
      "name": "05_SCRE_Resilience_Architecture.ipynb",
      "private_outputs": true,
      "provenance": [],
      "toc_visible": true
    },
    "interpreter": {
      "hash": "916dbcbb3f70747c44a77c7bcd40155683ae19c65e1c03b4aa3499c5328201f1"
    },
    "kernelspec": {
      "display_name": "Python 3.8.10 64-bit",
      "language": "python",
      "name": "python3"
    },
    "language_info": {
      "codemirror_mode": {
        "name": "ipython",
        "version": 3
      },
      "file_extension": ".py",
      "mimetype": "text/x-python",
      "name": "python",
      "nbconvert_exporter": "python",
      "pygments_lexer": "ipython3",
      "version": "3.8.10"
    },
    "orig_nbformat": 4
  },
  "nbformat": 4,
  "nbformat_minor": 0
}
