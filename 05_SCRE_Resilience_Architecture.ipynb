{
  "cells": [
    {
      "cell_type": "markdown",
      "metadata": {
        "id": "view-in-github",
        "colab_type": "text"
      },
      "source": [
        "<a href=\"https://colab.research.google.com/github/tsherburne/de-textbook/blob/main/05_SCRE_Resilience_Architecture.ipynb\" target=\"_parent\"><img src=\"https://colab.research.google.com/assets/colab-badge.svg\" alt=\"Open In Colab\"/></a>"
      ]
    },
    {
      "cell_type": "markdown",
      "metadata": {
        "id": "yxyGsrYcsoHw"
      },
      "source": [
        "# Initialize Notebook"
      ]
    },
    {
      "cell_type": "code",
      "execution_count": null,
      "metadata": {
        "cellView": "form",
        "id": "6l3GIZt8soHw"
      },
      "outputs": [],
      "source": [
        "#@title Download & Install Notebook Packages\n",
        "%pip install -q manb\n",
        "import manb\n",
        "env = manb.Environment('https://genesys.mission-aware.net', '/api/v1/')"
      ]
    },
    {
      "cell_type": "code",
      "execution_count": null,
      "metadata": {
        "cellView": "form",
        "id": "L4g52IOhsoHx"
      },
      "outputs": [],
      "source": [
        "#@title Cloudflare Tunnel Authentication\n",
        "try:\n",
        "  env.Tunnel()\n",
        "except NameError:\n",
        "  print(\"\\033[2;31mERROR:\\033[0;0m Notebook not yet initialized - see above.\")"
      ]
    },
    {
      "cell_type": "code",
      "execution_count": null,
      "metadata": {
        "cellView": "form",
        "id": "VuDq3hXUsoHy"
      },
      "outputs": [],
      "source": [
        "#@title GENESYS Login & Project Selection\n",
        "try:\n",
        "  env.Login()\n",
        "except NameError:\n",
        "  print(\"\\033[2;31mERROR:\\033[0;0m Notebook not yet initialized - see above.\")"
      ]
    },
    {
      "cell_type": "markdown",
      "metadata": {
        "id": "cH7a0HR-soHy"
      },
      "source": [
        "# Resilience Architecture Analysis"
      ]
    },
    {
      "cell_type": "code",
      "execution_count": null,
      "metadata": {
        "cellView": "form",
        "id": "cEcfjA_Wv6ox"
      },
      "outputs": [],
      "source": [
        "#@title Initialize Resilience Architecture Analysis\n",
        "try:  \n",
        "  arch = manb.ResilienceArchitecture(env)\n",
        "except NameError:\n",
        "  print(\"\\033[2;31mERROR:\\033[0;0m Notebook not yet initialized - see above.\")"
      ]
    },
    {
      "cell_type": "markdown",
      "metadata": {
        "id": "EcSrZejduI2Y"
      },
      "source": [
        "## Loss Scenario Elaboration"
      ]
    },
    {
      "cell_type": "markdown",
      "metadata": {
        "id": "mlMI4cJtvDal"
      },
      "source": [
        "### MBSE for Loss Scenario Elaboration\n",
        "\n",
        "> <img src=\"https://raw.githubusercontent.com/tsherburne/de-textbook/main/images/mission-aware-loss-scenario-elaboration.png\" height=\"350\" />\n"
      ]
    },
    {
      "cell_type": "code",
      "execution_count": null,
      "metadata": {
        "id": "dqE0066I39zZ",
        "cellView": "form"
      },
      "outputs": [],
      "source": [
        "#@title Resilient Modes Table\n",
        "try:  \n",
        "  arch.ResilientModeTable()\n",
        "except NameError:\n",
        "  print(\"\\033[2;31mERROR:\\033[0;0m Notebook not yet initialized - see above.\")"
      ]
    },
    {
      "cell_type": "code",
      "execution_count": null,
      "metadata": {
        "cellView": "form",
        "id": "892MzP-7n4i2"
      },
      "outputs": [],
      "source": [
        "#@title Loss Scenario Elaboration Table\n",
        "try:  \n",
        "  arch.LossScenarioElaborationTable()\n",
        "except NameError:\n",
        "  print(\"\\033[2;31mERROR:\\033[0;0m Notebook not yet initialized - see above.\")"
      ]
    },
    {
      "cell_type": "code",
      "execution_count": null,
      "metadata": {
        "cellView": "form",
        "id": "ovX6pR_jn4i3"
      },
      "outputs": [],
      "source": [
        "#@title Loss Scenario Message Sequence Diagrams\n",
        "try:\n",
        "  arch.LossScenarioMSCDiagrams()\n",
        "except NameError:\n",
        "  print(\"\\033[2;31mERROR:\\033[0;0m Notebook not yet initialized - see above.\")"
      ]
    },
    {
      "cell_type": "markdown",
      "metadata": {
        "id": "YRw84C4puPyw"
      },
      "source": [
        "## Requirements Elicitation"
      ]
    },
    {
      "cell_type": "markdown",
      "metadata": {
        "id": "3-cqnS1JvLXY"
      },
      "source": [
        "\n",
        "### MBSE for Requirements Elicitation\n",
        "\n",
        "> <img src=\"https://raw.githubusercontent.com/tsherburne/de-textbook/main/images/mission-aware-requirements-elicitation.png\" height=\"350\" />\n"
      ]
    },
    {
      "cell_type": "code",
      "execution_count": null,
      "metadata": {
        "id": "6AGnw-fGsoHy",
        "cellView": "form"
      },
      "outputs": [],
      "source": [
        "#@title Loss Scenario / Remediation Elicted Requirements Table\n",
        "try:  \n",
        "  arch.ElicitedRequirementsTable()\n",
        "except NameError:\n",
        "  print(\"\\033[2;31mERROR:\\033[0;0m Notebook not yet initialized - see above.\")"
      ]
    }
  ],
  "metadata": {
    "colab": {
      "collapsed_sections": [],
      "name": "05_SCRE_Resilience_Architecture.ipynb",
      "provenance": [],
      "toc_visible": true,
      "private_outputs": true,
      "include_colab_link": true
    },
    "interpreter": {
      "hash": "916dbcbb3f70747c44a77c7bcd40155683ae19c65e1c03b4aa3499c5328201f1"
    },
    "kernelspec": {
      "display_name": "Python 3.8.10 64-bit",
      "language": "python",
      "name": "python3"
    },
    "language_info": {
      "codemirror_mode": {
        "name": "ipython",
        "version": 3
      },
      "file_extension": ".py",
      "mimetype": "text/x-python",
      "name": "python",
      "nbconvert_exporter": "python",
      "pygments_lexer": "ipython3",
      "version": "3.8.10"
    },
    "orig_nbformat": 4
  },
  "nbformat": 4,
  "nbformat_minor": 0
}