{
  "cells": [
    {
      "cell_type": "markdown",
      "metadata": {
        "colab_type": "text",
        "id": "view-in-github"
      },
      "source": [
        "<a href=\"https://colab.research.google.com/github/tsherburne/de-textbook/blob/main/02_SCRE_Risk_Assessment.ipynb\" target=\"_parent\"><img src=\"https://colab.research.google.com/assets/colab-badge.svg\" alt=\"Open In Colab\"/></a>"
      ]
    },
    {
      "cell_type": "markdown",
      "metadata": {
        "id": "ARKld3rWqosO",
        "tags": []
      },
      "source": [
        "# Initialize Notebook"
      ]
    },
    {
      "cell_type": "code",
      "execution_count": null,
      "metadata": {
        "cellView": "form",
        "id": "yanj4hCUW50S",
        "tags": []
      },
      "outputs": [],
      "source": [
        "#@title Download & Install Notebook Packages\n",
        "\n",
        "%pip install -q manb\n",
        "import manb\n",
        "env = manb.Environment('https://genesys.mission-aware.net', '/api/v1/')"
      ]
    },
    {
      "cell_type": "code",
      "execution_count": null,
      "metadata": {
        "cellView": "form",
        "id": "_u6jvG7hlf-7"
      },
      "outputs": [],
      "source": [
        "#@title Cloudflare Tunnel Authentication\n",
        "env.Tunnel()"
      ]
    },
    {
      "cell_type": "code",
      "execution_count": null,
      "metadata": {
        "cellView": "form",
        "id": "KwhEzBBymEH2",
        "tags": []
      },
      "outputs": [],
      "source": [
        "#@title GENESY Login & Project Selection\n",
        "env.Login()"
      ]
    },
    {
      "cell_type": "markdown",
      "metadata": {
        "id": "FZpIiP1ArEn5",
        "tags": []
      },
      "source": [
        "# Operational Risk Assessment\n"
      ]
    },
    {
      "cell_type": "code",
      "execution_count": null,
      "metadata": {
        "cellView": "form",
        "id": "2_YfDlzb77VI"
      },
      "outputs": [],
      "source": [
        "#@title Generate Control Structure\n",
        "cs = manb.ControlStructure(env)"
      ]
    },
    {
      "cell_type": "markdown",
      "metadata": {
        "id": "kyEihrbA_1z5"
      },
      "source": [
        "## Control Structure Diagram\n",
        "\n",
        "A ***hierarchical control structure*** is a system \n",
        "model that is composed of feedback control loops. An effective \n",
        "control structure will enforce constraints on the behavior of the \n",
        "overall system.\n",
        "\n",
        "----\n",
        "\n",
        "### MBSE ***Control Structure*** Entities & Relationships\n",
        "\n",
        "> <img src=\"https://raw.githubusercontent.com/tsherburne/de-textbook/main/images/mission-aware-mbse-control-structure.png\" height=\"175\" />"
      ]
    },
    {
      "cell_type": "markdown",
      "metadata": {},
      "source": [
        "----\n",
        "\n",
        "| Entity | Description |\n",
        "| :---   | :----       | \n",
        "| Control Action | A controller provides control actions to control some process and to enforce constraints on the behavior of the <br> controlled process.|\n",
        "| Component | A component is an abstract term that represents the physical or logical entity that performs a specific function <br> or functions.|\n",
        "| Feedback | Process models may be updated in part by feedback used to observe the controlled process.|\n",
        "| Function | A function is a transformation that accepts one or more inputs (items) and transforms them into outputs (items).|\n",
        "| Item | An item represent flows within and between functions. An item is an input to or an output from a function.|\n",
        "| Use Case | A use case identifies a piece of the functionality of a system in terms of how the users use the system to <br> achieve their goals (mission). Use cases are high-level descriptions of behavior under a specific set of conditions. <br>These high-level descriptions can then be elaborated to define the system behavior.|\n",
        "\n",
        "----"
      ]
    },
    {
      "cell_type": "code",
      "execution_count": null,
      "metadata": {
        "cellView": "form",
        "id": "Hwqcj_NLF7b6",
        "tags": []
      },
      "outputs": [],
      "source": [
        "#@title System ***Context*** & ***Control Structure*** Diagram\n",
        "cs.Diagram()"
      ]
    },
    {
      "cell_type": "code",
      "execution_count": null,
      "metadata": {
        "cellView": "form",
        "id": "MKYtNVTJ77VL"
      },
      "outputs": [],
      "source": [
        "#@title System ***Control Actions***\n",
        "cs.ControlActionTable()"
      ]
    },
    {
      "cell_type": "markdown",
      "metadata": {
        "id": "MIcVtyIXAKQv"
      },
      "source": [
        "## STPA Losses, Hazards, & Hazardous Control Actions\n",
        "\n",
        "--- \n",
        "### MBSE ***Operational Risk Assessment*** Entities & Relationships\n",
        "\n",
        "> <img src=\"https://raw.githubusercontent.com/tsherburne/de-textbook/main/images/mission-aware-ma-mbse-risk-assesment.png\" height=\"200\" />"
      ]
    },
    {
      "cell_type": "code",
      "execution_count": null,
      "metadata": {
        "cellView": "form",
        "id": "65_e7PT177VL"
      },
      "outputs": [],
      "source": [
        "#@title Initialize Risk Assessment\n",
        "ra = manb.RiskAssessment(env, cs)"
      ]
    },
    {
      "cell_type": "code",
      "execution_count": null,
      "metadata": {
        "cellView": "form",
        "id": "CDPNSlmdc3Dl"
      },
      "outputs": [],
      "source": [
        "#@title System ***Losses***\n",
        "#@markdown Definition: A ***Loss*** involves something of value to stakeholders. \n",
        "#@markdown Losses may include a loss of human life or human injury, property damage, \n",
        "#@markdown environmental pollution, loss of mission, loss of reputation, loss or leak of \n",
        "#@markdown sensitive information, or any other loss that is unacceptable to the stakeholders.\n",
        "\n",
        "ra.LossTable()"
      ]
    },
    {
      "cell_type": "code",
      "execution_count": null,
      "metadata": {
        "cellView": "form",
        "id": "of2stNiUzAN6"
      },
      "outputs": [],
      "source": [
        "#@title System Hazards\n",
        "#@markdown Definition: A ***Hazard*** is a system state or set of conditions \n",
        "#@markdown that, together with a particular set of worst-case environmental \n",
        "#@markdown conditions, will lead to a loss.\n",
        "\n",
        "ra.HazardTable()"
      ]
    },
    {
      "cell_type": "code",
      "execution_count": null,
      "metadata": {
        "cellView": "form",
        "id": "OkfZDaUr8zO2"
      },
      "outputs": [],
      "source": [
        "#@title System Hazardous Control Actions\n",
        "#@markdown Definition: A ***Hazardous Control Action (HCA)*** is a control action that, \n",
        "#@markdown in a particular context and worst-case environment, will lead to a hazard.\n",
        "#@markdown \n",
        "#@markdown There are four ways ***(variation type)*** a control action can be hazardous:\n",
        "#@markdown 1. Not providing the control action leads to a hazard.\n",
        "#@markdown 2. Providing the control action leads to a hazard.\n",
        "#@markdown 3. Providing a potentially safe control action but too early, too late, or in the wrong order\n",
        "#@markdown 4. The control action lasts too long or is stopped too soon (for continuous control actions, not discrete ones).\n",
        "#@markdown > To filter rows NOT containing \\<string>\n",
        "#@markdown ```\n",
        "#@markdown ^((?!<string>).)*$\n",
        "#@markdown ```\n",
        "\n",
        "ra.HazardousActionTable()"
      ]
    },
    {
      "cell_type": "code",
      "execution_count": null,
      "metadata": {
        "cellView": "form",
        "id": "oiWTmcVwJk7Q"
      },
      "outputs": [],
      "source": [
        "#@title Control Action Analysis\n",
        "\n",
        "#@markdown Although all four variation types should be considered, they may not all \n",
        "#@markdown be applicable in every case (see HCA.0 and 'justification'). It is also possible \n",
        "#@markdown to identify several HCAs for a single variation type.\n",
        "#@markdown In general, each CA / variation type may define 0 or more HCAs.\n",
        "\n",
        "ra.ControlActionAnalysisTable()"
      ]
    },
    {
      "cell_type": "markdown",
      "metadata": {
        "id": "dUqM80mny9lO"
      },
      "source": [
        "# Exercises"
      ]
    },
    {
      "cell_type": "code",
      "execution_count": null,
      "metadata": {
        "cellView": "form",
        "id": "7oHALC2Q9zJL"
      },
      "outputs": [],
      "source": [
        "#@title Risk Assessment Questions\n",
        "ex = manb.Exercises(env, manb.Section.RISK_ASSESSMENT)\n",
        "ex.Edit()"
      ]
    }
  ],
  "metadata": {
    "colab": {
      "collapsed_sections": [
        "nmNC_z4WYSDP"
      ],
      "include_colab_link": true,
      "name": "02_SCRE_Risk_Assessment.ipynb",
      "private_outputs": true,
      "provenance": [],
      "toc_visible": true
    },
    "kernelspec": {
      "display_name": "Python 3 (ipykernel)",
      "language": "python",
      "name": "python3"
    },
    "language_info": {
      "codemirror_mode": {
        "name": "ipython",
        "version": 3
      },
      "file_extension": ".py",
      "mimetype": "text/x-python",
      "name": "python",
      "nbconvert_exporter": "python",
      "pygments_lexer": "ipython3",
      "version": "3.8.10"
    },
    "toc-showtags": false
  },
  "nbformat": 4,
  "nbformat_minor": 0
}
